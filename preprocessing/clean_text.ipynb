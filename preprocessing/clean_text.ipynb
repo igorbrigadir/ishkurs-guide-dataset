{
 "cells": [
  {
   "cell_type": "code",
   "execution_count": 72,
   "metadata": {
    "ExecuteTime": {
     "end_time": "2019-08-26T16:15:28.020857Z",
     "start_time": "2019-08-26T16:15:28.016781Z"
    }
   },
   "outputs": [],
   "source": [
    "import re\n",
    "from glob import glob"
   ]
  },
  {
   "cell_type": "code",
   "execution_count": 73,
   "metadata": {
    "ExecuteTime": {
     "end_time": "2019-08-26T16:15:29.866709Z",
     "start_time": "2019-08-26T16:15:29.862507Z"
    }
   },
   "outputs": [],
   "source": [
    "def strip_format(txt):\n",
    "    texts = re.findall(r'[A-Z]*',txt)\n",
    "    return ' '.join(' '.join(texts).split())\n",
    "\n",
    "def cleanup(txt):\n",
    "    if len(txt) < 2:\n",
    "        return \"\"\n",
    "    if \"LOADING\" in txt:\n",
    "        return \"\"\n",
    "    if \"listen to this genre right now!\" in txt:\n",
    "        return \"\"\n",
    "    #if \"--- RECORDSEPARATOR ---\" in txt:\n",
    "    #    return \"\"\n",
    "    return txt\n",
    "\n",
    "def cleanup_track(txt):\n",
    "    if \"artist:\" in txt:\n",
    "        return \"\"\n",
    "    if \"--- RECORDSEPARATOR ---\" in txt:\n",
    "        return \"\"\n",
    "    if \"track:\" in txt:\n",
    "        return \"\"\n",
    "    return txt\n",
    "\n",
    "#def extract_track(txt):\n",
    "    "
   ]
  },
  {
   "cell_type": "code",
   "execution_count": null,
   "metadata": {
    "ExecuteTime": {
     "end_time": "2019-08-26T16:15:30.957511Z",
     "start_time": "2019-08-26T16:15:30.783282Z"
    }
   },
   "outputs": [],
   "source": [
    "# For Tracks:\n",
    "\n",
    "files = sorted([i.replace('../raw_data/','').replace('.swf','') for i in glob('../raw_data/*.swf')])    \n",
    "\n",
    "for file in files:\n",
    "    \n",
    "    playlist = []\n",
    "    \n",
    "    track = {}\n",
    "    \n",
    "    num_guess = 0\n",
    "    \n",
    "    for fname in glob('../swf_data/'+file+'/*.txt'): # 902 multiline\n",
    "        with open(fname) as f:\n",
    "            txt = f.read()\n",
    "\n",
    "            t = cleanup(txt)\n",
    "\n",
    "            #if t is not \"\":\n",
    "                #print (t)\n",
    "                #print (\"\")\n",
    "            \n",
    "            #if str(txt).isdigit():\n",
    "            #    num_guess = int(txt)\n",
    "            \n",
    "            if \"artist:\" in t:\n",
    "                t = t.replace(\"\\n--- RECORDSEPARATOR ---\\n\",'\\t').split('\\t')\n",
    "                #print(t)\n",
    "                track = {'artist':t[0].replace('artist:','').title(),\n",
    "                         'title':t[1].replace('track:','').title(),\n",
    "                         #'num': num_guess\n",
    "                        }\n",
    "                playlist.append(track)\n",
    "                #print(track)\n",
    "            \n",
    "    \n",
    "    for i, track in enumerate(playlist):\n",
    "        print(\"{}\\t{}\\t{}\\t{}\".format(file, i+1, track['artist'], track['title']))"
   ]
  },
  {
   "cell_type": "code",
   "execution_count": null,
   "metadata": {
    "ExecuteTime": {
     "end_time": "2019-08-24T02:09:06.547259Z",
     "start_time": "2019-08-24T02:09:06.376045Z"
    }
   },
   "outputs": [],
   "source": [
    "# For Titles, and AKAs\n",
    "\n",
    "files = sorted([i.replace('../raw_data/','').replace('.swf','') for i in glob('../raw_data/*.swf')])    \n",
    "\n",
    "for file in files:\n",
    "\n",
    "    parts = []\n",
    "    \n",
    "    for fname in glob('../swf_data/'+file+'/*.txt'): # 902 multiline\n",
    "        with open(fname) as f:\n",
    "            txt = f.read()\n",
    "\n",
    "            t = cleanup_track(cleanup(txt)).title()\n",
    "            if t is not \"\":\n",
    "                parts.append(t)\n",
    "    \n",
    "    if len(parts) < 2:\n",
    "        parts.append(\"\")\n",
    "        \n",
    "    if len(parts) < 2:\n",
    "        parts.append(\"\")\n",
    "        \n",
    "    print(file, \"\\t\", parts[0], \"\\t\", parts[1].replace('Aka',''))"
   ]
  },
  {
   "cell_type": "code",
   "execution_count": null,
   "metadata": {
    "ExecuteTime": {
     "end_time": "2019-08-24T00:58:39.224872Z",
     "start_time": "2019-08-24T00:58:39.184321Z"
    }
   },
   "outputs": [],
   "source": [
    "[print(j) for j in sorted([i.replace('../raw_data/','').replace('.swf','') for i in glob('../raw_data/*.swf')])]"
   ]
  },
  {
   "cell_type": "code",
   "execution_count": 75,
   "metadata": {
    "ExecuteTime": {
     "end_time": "2019-08-26T16:16:10.256883Z",
     "start_time": "2019-08-26T16:16:10.254004Z"
    }
   },
   "outputs": [],
   "source": [
    "import pandas as pd\n",
    "import numpy as np"
   ]
  },
  {
   "cell_type": "code",
   "execution_count": null,
   "metadata": {
    "ExecuteTime": {
     "end_time": "2019-08-26T16:28:29.149663Z",
     "start_time": "2019-08-26T16:28:29.002849Z"
    },
    "scrolled": true
   },
   "outputs": [],
   "source": [
    "#for guide text descriptions:\n",
    "\n",
    "df = pd.read_csv('../genres.csv')\n",
    "\n",
    "for idx, r in df.iterrows():\n",
    "    #print(r['type'], r['file'])\n",
    "    \n",
    "    with open('../raw_data/'+r['file']+'.txt') as f:\n",
    "        desc = f.read()\n",
    "        desc = desc[5:len(desc)-2] # get rid of text=, --\n",
    "        #print(desc)\n",
    "    \n",
    "    if (r['node'] == r['title']):\n",
    "        header = '##'\n",
    "        if r['node'] in set(['House','Trance','Techno','Breakbeat','Jungle','Hardcore','Downtempo']):\n",
    "            header = '#'\n",
    "        print (header, r['node'])\n",
    "    else:\n",
    "        print (\"##\", r['node']+\":\", r['title'])\n",
    "\n",
    "    \n",
    "    type_of = \"\"    \n",
    "    if str(r['scene']) != 'nan':\n",
    "        type_of = \"in the \" + r['scene'] + \" group,\"\n",
    "    \n",
    "    if str(r['aka']) != 'nan':\n",
    "        print(\"*aka: \", r['aka'].strip()+\"*\", type_of, 'emerged in', r['decade'])\n",
    "    else:\n",
    "        print(type_of)\n",
    "    print()\n",
    "    print(desc)\n",
    "    print()"
   ]
  },
  {
   "cell_type": "code",
   "execution_count": 103,
   "metadata": {
    "ExecuteTime": {
     "end_time": "2019-08-26T16:41:30.947042Z",
     "start_time": "2019-08-26T16:41:30.900579Z"
    }
   },
   "outputs": [],
   "source": [
    "# Add descriptions to CSV\n",
    "df = pd.read_csv('../genres.csv')\n",
    "\n",
    "for idx, r in df.iterrows():\n",
    "    #print(r['type'], r['file'])\n",
    "    \n",
    "    with open('../raw_data/'+r['file']+'.txt') as f:\n",
    "        desc = f.read()\n",
    "        desc = desc[5:len(desc)-2] # get rid of text=, --\n",
    "        desc = desc.strip()\n",
    "\n",
    "        df.at[idx,'description'] = desc\n",
    "        \n",
    "        #print(desc)\n",
    "        \n",
    "        #print('\\n' in desc)\n",
    "        #if '\\n' in desc:\n",
    "        #    print(desc)\n",
    "\n",
    "df.to_csv('../genres.csv', index=False)\n",
    "#df"
   ]
  },
  {
   "cell_type": "code",
   "execution_count": 86,
   "metadata": {
    "ExecuteTime": {
     "end_time": "2019-08-26T16:29:14.468277Z",
     "start_time": "2019-08-26T16:29:14.447991Z"
    }
   },
   "outputs": [],
   "source": [
    "# https://stackoverflow.com/a/33869154/11090908\n",
    "def pandas_df_to_markdown_table(df):\n",
    "    from IPython.display import Markdown, display\n",
    "    fmt = ['---' for i in range(len(df.columns))]\n",
    "    df_fmt = pd.DataFrame([fmt], columns=df.columns)\n",
    "    df_formatted = pd.concat([df_fmt, df])\n",
    "    #display(Markdown(df_formatted.to_csv(sep=\"|\", index=False)))\n",
    "    return df_formatted.to_csv(sep=\"|\", index=True)"
   ]
  },
  {
   "cell_type": "code",
   "execution_count": 104,
   "metadata": {
    "ExecuteTime": {
     "end_time": "2019-08-26T16:43:58.352349Z",
     "start_time": "2019-08-26T16:43:58.307776Z"
    }
   },
   "outputs": [
    {
     "name": "stdout",
     "output_type": "stream",
     "text": [
      "|node|title|aka|type|scene|decade|file|description\n",
      "0|---|---|---|---|---|---|---|---\n",
      "count|187|187|129|187|96|180|187|187\n",
      "unique|156|185|125|7|15|6|187|185\n",
      "top|Tribal|Jungle|Tribal|Trance|Hard Dance|90s|hardcore|Like rats scrambling from a sinking ship, Progressive Trance and Anthem Trance producers escaped the banality of the builds, breakdowns and chorus melodies when it was declared by the genre's elite (read: Sasha and Digweed) as being thoroughly uncool to keep playing the stuff. So they latched onto the other genres as a way to stay ahead of the pack. Break Trance (Breakbeat), Tech Trance (Techno) and Deep Trance (House) are such genres created in the wake of the Great Anthem crash.\n",
      "freq|4|2|4|37|10|121|1|3\n",
      "\n"
     ]
    },
    {
     "data": {
      "text/html": [
       "<div>\n",
       "<style scoped>\n",
       "    .dataframe tbody tr th:only-of-type {\n",
       "        vertical-align: middle;\n",
       "    }\n",
       "\n",
       "    .dataframe tbody tr th {\n",
       "        vertical-align: top;\n",
       "    }\n",
       "\n",
       "    .dataframe thead th {\n",
       "        text-align: right;\n",
       "    }\n",
       "</style>\n",
       "<table border=\"1\" class=\"dataframe\">\n",
       "  <thead>\n",
       "    <tr style=\"text-align: right;\">\n",
       "      <th></th>\n",
       "      <th>node</th>\n",
       "      <th>title</th>\n",
       "      <th>aka</th>\n",
       "      <th>type</th>\n",
       "      <th>scene</th>\n",
       "      <th>decade</th>\n",
       "      <th>file</th>\n",
       "      <th>description</th>\n",
       "    </tr>\n",
       "  </thead>\n",
       "  <tbody>\n",
       "    <tr>\n",
       "      <th>count</th>\n",
       "      <td>187</td>\n",
       "      <td>187</td>\n",
       "      <td>129</td>\n",
       "      <td>187</td>\n",
       "      <td>96</td>\n",
       "      <td>180</td>\n",
       "      <td>187</td>\n",
       "      <td>187</td>\n",
       "    </tr>\n",
       "    <tr>\n",
       "      <th>unique</th>\n",
       "      <td>156</td>\n",
       "      <td>185</td>\n",
       "      <td>125</td>\n",
       "      <td>7</td>\n",
       "      <td>15</td>\n",
       "      <td>6</td>\n",
       "      <td>187</td>\n",
       "      <td>185</td>\n",
       "    </tr>\n",
       "    <tr>\n",
       "      <th>top</th>\n",
       "      <td>Tribal</td>\n",
       "      <td>Jungle</td>\n",
       "      <td>Tribal</td>\n",
       "      <td>Trance</td>\n",
       "      <td>Hard Dance</td>\n",
       "      <td>90s</td>\n",
       "      <td>hardcore</td>\n",
       "      <td>Like rats scrambling from a sinking ship, Prog...</td>\n",
       "    </tr>\n",
       "    <tr>\n",
       "      <th>freq</th>\n",
       "      <td>4</td>\n",
       "      <td>2</td>\n",
       "      <td>4</td>\n",
       "      <td>37</td>\n",
       "      <td>10</td>\n",
       "      <td>121</td>\n",
       "      <td>1</td>\n",
       "      <td>3</td>\n",
       "    </tr>\n",
       "  </tbody>\n",
       "</table>\n",
       "</div>"
      ],
      "text/plain": [
       "          node   title     aka    type       scene decade      file  \\\n",
       "count      187     187     129     187          96    180       187   \n",
       "unique     156     185     125       7          15      6       187   \n",
       "top     Tribal  Jungle  Tribal  Trance  Hard Dance    90s  hardcore   \n",
       "freq         4       2       4      37          10    121         1   \n",
       "\n",
       "                                              description  \n",
       "count                                                 187  \n",
       "unique                                                185  \n",
       "top     Like rats scrambling from a sinking ship, Prog...  \n",
       "freq                                                    3  "
      ]
     },
     "execution_count": 104,
     "metadata": {},
     "output_type": "execute_result"
    }
   ],
   "source": [
    "df = pd.read_csv('../genres.csv')\n",
    "#df = pd.read_csv('../links.csv')\n",
    "#df = pd.read_csv('../tracks.csv')\n",
    "\n",
    "df2 = df.describe(include='all').fillna(\" \")\n",
    "print(pandas_df_to_markdown_table(df2))\n",
    "df2"
   ]
  },
  {
   "cell_type": "code",
   "execution_count": null,
   "metadata": {},
   "outputs": [],
   "source": []
  },
  {
   "cell_type": "code",
   "execution_count": null,
   "metadata": {},
   "outputs": [],
   "source": []
  }
 ],
 "metadata": {
  "kernelspec": {
   "display_name": "Python 3",
   "language": "python",
   "name": "python3"
  },
  "language_info": {
   "codemirror_mode": {
    "name": "ipython",
    "version": 3
   },
   "file_extension": ".py",
   "mimetype": "text/x-python",
   "name": "python",
   "nbconvert_exporter": "python",
   "pygments_lexer": "ipython3",
   "version": "3.6.7"
  },
  "varInspector": {
   "cols": {
    "lenName": 16,
    "lenType": 16,
    "lenVar": 40
   },
   "kernels_config": {
    "python": {
     "delete_cmd_postfix": "",
     "delete_cmd_prefix": "del ",
     "library": "var_list.py",
     "varRefreshCmd": "print(var_dic_list())"
    },
    "r": {
     "delete_cmd_postfix": ") ",
     "delete_cmd_prefix": "rm(",
     "library": "var_list.r",
     "varRefreshCmd": "cat(var_dic_list()) "
    }
   },
   "types_to_exclude": [
    "module",
    "function",
    "builtin_function_or_method",
    "instance",
    "_Feature"
   ],
   "window_display": false
  }
 },
 "nbformat": 4,
 "nbformat_minor": 2
}
