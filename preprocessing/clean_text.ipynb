{
 "cells": [
  {
   "cell_type": "code",
   "execution_count": null,
   "metadata": {
    "ExecuteTime": {
     "end_time": "2019-08-24T00:49:41.813454Z",
     "start_time": "2019-08-24T00:49:41.808680Z"
    }
   },
   "outputs": [],
   "source": [
    "import re\n",
    "from glob import glob"
   ]
  },
  {
   "cell_type": "code",
   "execution_count": null,
   "metadata": {
    "ExecuteTime": {
     "end_time": "2019-08-24T02:19:08.239172Z",
     "start_time": "2019-08-24T02:19:08.213178Z"
    }
   },
   "outputs": [],
   "source": [
    "def strip_format(txt):\n",
    "    texts = re.findall(r'[A-Z]*',txt)\n",
    "    return ' '.join(' '.join(texts).split())\n",
    "\n",
    "def cleanup(txt):\n",
    "    if len(txt) < 2:\n",
    "        return \"\"\n",
    "    if \"LOADING\" in txt:\n",
    "        return \"\"\n",
    "    if \"listen to this genre right now!\" in txt:\n",
    "        return \"\"\n",
    "    #if \"--- RECORDSEPARATOR ---\" in txt:\n",
    "    #    return \"\"\n",
    "    return txt\n",
    "\n",
    "def cleanup_track(txt):\n",
    "    if \"artist:\" in txt:\n",
    "        return \"\"\n",
    "    if \"--- RECORDSEPARATOR ---\" in txt:\n",
    "        return \"\"\n",
    "    if \"track:\" in txt:\n",
    "        return \"\"\n",
    "    return txt\n",
    "\n",
    "#def extract_track(txt):\n",
    "    "
   ]
  },
  {
   "cell_type": "code",
   "execution_count": null,
   "metadata": {
    "ExecuteTime": {
     "end_time": "2019-08-24T02:19:09.089000Z",
     "start_time": "2019-08-24T02:19:08.896651Z"
    }
   },
   "outputs": [],
   "source": [
    "# For Tracks:\n",
    "\n",
    "files = sorted([i.replace('../raw_data/','').replace('.swf','') for i in glob('../raw_data/*.swf')])    \n",
    "\n",
    "for file in files:\n",
    "    \n",
    "    playlist = []\n",
    "    \n",
    "    track = {}\n",
    "    \n",
    "    num_guess = 0\n",
    "    \n",
    "    for fname in glob('../swf_data/'+file+'/*.txt'): # 902 multiline\n",
    "        with open(fname) as f:\n",
    "            txt = f.read()\n",
    "\n",
    "            t = cleanup(txt)\n",
    "\n",
    "            #if t is not \"\":\n",
    "                #print (t)\n",
    "                #print (\"\")\n",
    "            \n",
    "            #if str(txt).isdigit():\n",
    "            #    num_guess = int(txt)\n",
    "            \n",
    "            if \"artist:\" in t:\n",
    "                t = t.replace(\"\\n--- RECORDSEPARATOR ---\\n\",'\\t').split('\\t')\n",
    "                #print(t)\n",
    "                track = {'artist':t[0].replace('artist:','').title(),\n",
    "                         'title':t[1].replace('track:','').title(),\n",
    "                         #'num': num_guess\n",
    "                        }\n",
    "                playlist.append(track)\n",
    "                #print(track)\n",
    "            \n",
    "    \n",
    "    for i, track in enumerate(playlist):\n",
    "        print(\"{}\\t{}\\t{}\\t{}\".format(file, i+1, track['artist'], track['title']))"
   ]
  },
  {
   "cell_type": "code",
   "execution_count": null,
   "metadata": {
    "ExecuteTime": {
     "end_time": "2019-08-24T02:09:06.547259Z",
     "start_time": "2019-08-24T02:09:06.376045Z"
    }
   },
   "outputs": [],
   "source": [
    "# For Titles, and AKAs\n",
    "\n",
    "files = sorted([i.replace('../raw_data/','').replace('.swf','') for i in glob('../raw_data/*.swf')])    \n",
    "\n",
    "for file in files:\n",
    "\n",
    "    parts = []\n",
    "    \n",
    "    for fname in glob('../swf_data/'+file+'/*.txt'): # 902 multiline\n",
    "        with open(fname) as f:\n",
    "            txt = f.read()\n",
    "\n",
    "            t = cleanup_track(cleanup(txt)).title()\n",
    "            if t is not \"\":\n",
    "                parts.append(t)\n",
    "    \n",
    "    if len(parts) < 2:\n",
    "        parts.append(\"\")\n",
    "        \n",
    "    if len(parts) < 2:\n",
    "        parts.append(\"\")\n",
    "        \n",
    "    print(file, \"\\t\", parts[0], \"\\t\", parts[1].replace('Aka',''))"
   ]
  },
  {
   "cell_type": "code",
   "execution_count": null,
   "metadata": {
    "ExecuteTime": {
     "end_time": "2019-08-24T00:58:39.224872Z",
     "start_time": "2019-08-24T00:58:39.184321Z"
    }
   },
   "outputs": [],
   "source": [
    "[print(j) for j in sorted([i.replace('../raw_data/','').replace('.swf','') for i in glob('../raw_data/*.swf')])]"
   ]
  },
  {
   "cell_type": "code",
   "execution_count": 38,
   "metadata": {
    "ExecuteTime": {
     "end_time": "2019-08-24T03:31:13.224873Z",
     "start_time": "2019-08-24T03:31:13.219094Z"
    }
   },
   "outputs": [],
   "source": [
    "import pandas as pd\n",
    "import numpy as np"
   ]
  },
  {
   "cell_type": "code",
   "execution_count": null,
   "metadata": {
    "ExecuteTime": {
     "end_time": "2019-08-24T03:01:13.089872Z",
     "start_time": "2019-08-24T03:01:12.943895Z"
    },
    "scrolled": true
   },
   "outputs": [],
   "source": [
    "#for guide text descriptions:\n",
    "\n",
    "df = pd.read_csv('../genres.csv')\n",
    "\n",
    "\n",
    "\n",
    "for idx, r in df.iterrows():\n",
    "    #print(r['type'], r['file'])\n",
    "    \n",
    "    with open('../raw_data/'+r['file']+'.txt') as f:\n",
    "        desc = f.read()\n",
    "        desc = desc[5:len(desc)-2] # get rid of text=, --\n",
    "        #print(desc)\n",
    "    \n",
    "    if (r['node'] == r['title']):\n",
    "        print (\"##\", r['node'])\n",
    "    else:\n",
    "        print (\"##\", r['node']+\":\", r['title'])\n",
    "\n",
    "    \n",
    "    type_of = \"\"    \n",
    "    if str(r['group']) != 'nan':\n",
    "        type_of = \"in the \" + r['group'] + \" group,\"\n",
    "    \n",
    "    if str(r['aka']) != 'nan':\n",
    "        print(\"*aka: \", r['aka'], \"*\", type_of, 'emerged in', r['decade'])\n",
    "    else:\n",
    "        print(type_of)\n",
    "        \n",
    "    print(desc)\n",
    "    print()"
   ]
  },
  {
   "cell_type": "code",
   "execution_count": 69,
   "metadata": {
    "ExecuteTime": {
     "end_time": "2019-08-24T03:47:45.860257Z",
     "start_time": "2019-08-24T03:47:45.845711Z"
    }
   },
   "outputs": [],
   "source": [
    "# https://stackoverflow.com/a/33869154/11090908\n",
    "def pandas_df_to_markdown_table(df):\n",
    "    from IPython.display import Markdown, display\n",
    "    fmt = ['---' for i in range(len(df.columns))]\n",
    "    df_fmt = pd.DataFrame([fmt], columns=df.columns)\n",
    "    df_formatted = pd.concat([df_fmt, df])\n",
    "    #display(Markdown(df_formatted.to_csv(sep=\"|\", index=False)))\n",
    "    return df_formatted.to_csv(sep=\"|\", index=True)"
   ]
  },
  {
   "cell_type": "code",
   "execution_count": 71,
   "metadata": {
    "ExecuteTime": {
     "end_time": "2019-08-24T03:48:05.957265Z",
     "start_time": "2019-08-24T03:48:05.924341Z"
    }
   },
   "outputs": [
    {
     "name": "stdout",
     "output_type": "stream",
     "text": [
      "|file|number|artist|track\n",
      "0|---|---|---|---\n",
      "count|1178|1178.0|1178|1176\n",
      "unique|179| |1151|1157\n",
      "top|italodisco| |Dj Funk|Yeah\n",
      "freq|11| |5|3\n",
      "mean| |4.136672325976231| | \n",
      "std| |2.3338584552859998| | \n",
      "min| |1.0| | \n",
      "25%| |2.0| | \n",
      "50%| |4.0| | \n",
      "75%| |6.0| | \n",
      "max| |11.0| | \n",
      "\n"
     ]
    },
    {
     "data": {
      "text/html": [
       "<div>\n",
       "<style scoped>\n",
       "    .dataframe tbody tr th:only-of-type {\n",
       "        vertical-align: middle;\n",
       "    }\n",
       "\n",
       "    .dataframe tbody tr th {\n",
       "        vertical-align: top;\n",
       "    }\n",
       "\n",
       "    .dataframe thead th {\n",
       "        text-align: right;\n",
       "    }\n",
       "</style>\n",
       "<table border=\"1\" class=\"dataframe\">\n",
       "  <thead>\n",
       "    <tr style=\"text-align: right;\">\n",
       "      <th></th>\n",
       "      <th>file</th>\n",
       "      <th>number</th>\n",
       "      <th>artist</th>\n",
       "      <th>track</th>\n",
       "    </tr>\n",
       "  </thead>\n",
       "  <tbody>\n",
       "    <tr>\n",
       "      <th>count</th>\n",
       "      <td>1178</td>\n",
       "      <td>1178</td>\n",
       "      <td>1178</td>\n",
       "      <td>1176</td>\n",
       "    </tr>\n",
       "    <tr>\n",
       "      <th>unique</th>\n",
       "      <td>179</td>\n",
       "      <td></td>\n",
       "      <td>1151</td>\n",
       "      <td>1157</td>\n",
       "    </tr>\n",
       "    <tr>\n",
       "      <th>top</th>\n",
       "      <td>italodisco</td>\n",
       "      <td></td>\n",
       "      <td>Dj Funk</td>\n",
       "      <td>Yeah</td>\n",
       "    </tr>\n",
       "    <tr>\n",
       "      <th>freq</th>\n",
       "      <td>11</td>\n",
       "      <td></td>\n",
       "      <td>5</td>\n",
       "      <td>3</td>\n",
       "    </tr>\n",
       "    <tr>\n",
       "      <th>mean</th>\n",
       "      <td></td>\n",
       "      <td>4.13667</td>\n",
       "      <td></td>\n",
       "      <td></td>\n",
       "    </tr>\n",
       "    <tr>\n",
       "      <th>std</th>\n",
       "      <td></td>\n",
       "      <td>2.33386</td>\n",
       "      <td></td>\n",
       "      <td></td>\n",
       "    </tr>\n",
       "    <tr>\n",
       "      <th>min</th>\n",
       "      <td></td>\n",
       "      <td>1</td>\n",
       "      <td></td>\n",
       "      <td></td>\n",
       "    </tr>\n",
       "    <tr>\n",
       "      <th>25%</th>\n",
       "      <td></td>\n",
       "      <td>2</td>\n",
       "      <td></td>\n",
       "      <td></td>\n",
       "    </tr>\n",
       "    <tr>\n",
       "      <th>50%</th>\n",
       "      <td></td>\n",
       "      <td>4</td>\n",
       "      <td></td>\n",
       "      <td></td>\n",
       "    </tr>\n",
       "    <tr>\n",
       "      <th>75%</th>\n",
       "      <td></td>\n",
       "      <td>6</td>\n",
       "      <td></td>\n",
       "      <td></td>\n",
       "    </tr>\n",
       "    <tr>\n",
       "      <th>max</th>\n",
       "      <td></td>\n",
       "      <td>11</td>\n",
       "      <td></td>\n",
       "      <td></td>\n",
       "    </tr>\n",
       "  </tbody>\n",
       "</table>\n",
       "</div>"
      ],
      "text/plain": [
       "              file   number   artist track\n",
       "count         1178     1178     1178  1176\n",
       "unique         179              1151  1157\n",
       "top     italodisco           Dj Funk  Yeah\n",
       "freq            11                 5     3\n",
       "mean                4.13667               \n",
       "std                 2.33386               \n",
       "min                       1               \n",
       "25%                       2               \n",
       "50%                       4               \n",
       "75%                       6               \n",
       "max                      11               "
      ]
     },
     "execution_count": 71,
     "metadata": {},
     "output_type": "execute_result"
    }
   ],
   "source": [
    "df = pd.read_csv('../tracks.csv')\n",
    "df2 = df.describe(include='all').fillna(\" \")\n",
    "\n",
    "print(pandas_df_to_markdown_table(df2))\n",
    "\n",
    "df2"
   ]
  },
  {
   "cell_type": "code",
   "execution_count": null,
   "metadata": {},
   "outputs": [],
   "source": []
  }
 ],
 "metadata": {
  "kernelspec": {
   "display_name": "Python 3",
   "language": "python",
   "name": "python3"
  },
  "language_info": {
   "codemirror_mode": {
    "name": "ipython",
    "version": 3
   },
   "file_extension": ".py",
   "mimetype": "text/x-python",
   "name": "python",
   "nbconvert_exporter": "python",
   "pygments_lexer": "ipython3",
   "version": "3.6.7"
  },
  "varInspector": {
   "cols": {
    "lenName": 16,
    "lenType": 16,
    "lenVar": 40
   },
   "kernels_config": {
    "python": {
     "delete_cmd_postfix": "",
     "delete_cmd_prefix": "del ",
     "library": "var_list.py",
     "varRefreshCmd": "print(var_dic_list())"
    },
    "r": {
     "delete_cmd_postfix": ") ",
     "delete_cmd_prefix": "rm(",
     "library": "var_list.r",
     "varRefreshCmd": "cat(var_dic_list()) "
    }
   },
   "types_to_exclude": [
    "module",
    "function",
    "builtin_function_or_method",
    "instance",
    "_Feature"
   ],
   "window_display": false
  }
 },
 "nbformat": 4,
 "nbformat_minor": 2
}
