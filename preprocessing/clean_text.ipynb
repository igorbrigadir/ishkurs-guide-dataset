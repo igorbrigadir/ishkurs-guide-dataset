{
 "cells": [
  {
   "cell_type": "code",
   "execution_count": null,
   "metadata": {
    "ExecuteTime": {
     "end_time": "2019-08-24T00:49:41.813454Z",
     "start_time": "2019-08-24T00:49:41.808680Z"
    }
   },
   "outputs": [],
   "source": [
    "import re\n",
    "from glob import glob"
   ]
  },
  {
   "cell_type": "code",
   "execution_count": null,
   "metadata": {
    "ExecuteTime": {
     "end_time": "2019-08-24T02:19:08.239172Z",
     "start_time": "2019-08-24T02:19:08.213178Z"
    }
   },
   "outputs": [],
   "source": [
    "def strip_format(txt):\n",
    "    texts = re.findall(r'[A-Z]*',txt)\n",
    "    return ' '.join(' '.join(texts).split())\n",
    "\n",
    "def cleanup(txt):\n",
    "    if len(txt) < 2:\n",
    "        return \"\"\n",
    "    if \"LOADING\" in txt:\n",
    "        return \"\"\n",
    "    if \"listen to this genre right now!\" in txt:\n",
    "        return \"\"\n",
    "    #if \"--- RECORDSEPARATOR ---\" in txt:\n",
    "    #    return \"\"\n",
    "    return txt\n",
    "\n",
    "def cleanup_track(txt):\n",
    "    if \"artist:\" in txt:\n",
    "        return \"\"\n",
    "    if \"--- RECORDSEPARATOR ---\" in txt:\n",
    "        return \"\"\n",
    "    if \"track:\" in txt:\n",
    "        return \"\"\n",
    "    return txt\n",
    "\n",
    "#def extract_track(txt):\n",
    "    "
   ]
  },
  {
   "cell_type": "code",
   "execution_count": null,
   "metadata": {
    "ExecuteTime": {
     "end_time": "2019-08-24T02:19:09.089000Z",
     "start_time": "2019-08-24T02:19:08.896651Z"
    }
   },
   "outputs": [],
   "source": [
    "# For Tracks:\n",
    "\n",
    "files = sorted([i.replace('../raw_data/','').replace('.swf','') for i in glob('../raw_data/*.swf')])    \n",
    "\n",
    "for file in files:\n",
    "    \n",
    "    playlist = []\n",
    "    \n",
    "    track = {}\n",
    "    \n",
    "    num_guess = 0\n",
    "    \n",
    "    for fname in glob('../swf_data/'+file+'/*.txt'): # 902 multiline\n",
    "        with open(fname) as f:\n",
    "            txt = f.read()\n",
    "\n",
    "            t = cleanup(txt)\n",
    "\n",
    "            #if t is not \"\":\n",
    "                #print (t)\n",
    "                #print (\"\")\n",
    "            \n",
    "            #if str(txt).isdigit():\n",
    "            #    num_guess = int(txt)\n",
    "            \n",
    "            if \"artist:\" in t:\n",
    "                t = t.replace(\"\\n--- RECORDSEPARATOR ---\\n\",'\\t').split('\\t')\n",
    "                #print(t)\n",
    "                track = {'artist':t[0].replace('artist:','').title(),\n",
    "                         'title':t[1].replace('track:','').title(),\n",
    "                         #'num': num_guess\n",
    "                        }\n",
    "                playlist.append(track)\n",
    "                #print(track)\n",
    "            \n",
    "    \n",
    "    for i, track in enumerate(playlist):\n",
    "        print(\"{}\\t{}\\t{}\\t{}\".format(file, i+1, track['artist'], track['title']))"
   ]
  },
  {
   "cell_type": "code",
   "execution_count": null,
   "metadata": {
    "ExecuteTime": {
     "end_time": "2019-08-24T02:09:06.547259Z",
     "start_time": "2019-08-24T02:09:06.376045Z"
    }
   },
   "outputs": [],
   "source": [
    "# For Titles, and AKAs\n",
    "\n",
    "files = sorted([i.replace('../raw_data/','').replace('.swf','') for i in glob('../raw_data/*.swf')])    \n",
    "\n",
    "for file in files:\n",
    "\n",
    "    parts = []\n",
    "    \n",
    "    for fname in glob('../swf_data/'+file+'/*.txt'): # 902 multiline\n",
    "        with open(fname) as f:\n",
    "            txt = f.read()\n",
    "\n",
    "            t = cleanup_track(cleanup(txt)).title()\n",
    "            if t is not \"\":\n",
    "                parts.append(t)\n",
    "    \n",
    "    if len(parts) < 2:\n",
    "        parts.append(\"\")\n",
    "        \n",
    "    if len(parts) < 2:\n",
    "        parts.append(\"\")\n",
    "        \n",
    "    print(file, \"\\t\", parts[0], \"\\t\", parts[1].replace('Aka',''))"
   ]
  },
  {
   "cell_type": "code",
   "execution_count": null,
   "metadata": {
    "ExecuteTime": {
     "end_time": "2019-08-24T00:58:39.224872Z",
     "start_time": "2019-08-24T00:58:39.184321Z"
    }
   },
   "outputs": [],
   "source": [
    "[print(j) for j in sorted([i.replace('../raw_data/','').replace('.swf','') for i in glob('../raw_data/*.swf')])]"
   ]
  },
  {
   "cell_type": "code",
   "execution_count": null,
   "metadata": {
    "ExecuteTime": {
     "end_time": "2019-08-24T02:32:44.018344Z",
     "start_time": "2019-08-24T02:32:44.015344Z"
    }
   },
   "outputs": [],
   "source": [
    "import pandas as pd\n",
    "import numpy as np"
   ]
  },
  {
   "cell_type": "code",
   "execution_count": null,
   "metadata": {
    "ExecuteTime": {
     "end_time": "2019-08-24T03:01:13.089872Z",
     "start_time": "2019-08-24T03:01:12.943895Z"
    },
    "scrolled": true
   },
   "outputs": [],
   "source": [
    "#for guide text descriptions:\n",
    "\n",
    "df = pd.read_csv('../genres.csv')\n",
    "\n",
    "\n",
    "\n",
    "for idx, r in df.iterrows():\n",
    "    #print(r['type'], r['file'])\n",
    "    \n",
    "    with open('../raw_data/'+r['file']+'.txt') as f:\n",
    "        desc = f.read()\n",
    "        desc = desc[5:len(desc)-2] # get rid of text=, --\n",
    "        #print(desc)\n",
    "    \n",
    "    if (r['node'] == r['title']):\n",
    "        print (\"##\", r['node'])\n",
    "    else:\n",
    "        print (\"##\", r['node']+\":\", r['title'])\n",
    "\n",
    "    \n",
    "    type_of = \"\"    \n",
    "    if str(r['group']) != 'nan':\n",
    "        type_of = \"in the \" + r['group'] + \" group,\"\n",
    "    \n",
    "    if str(r['aka']) != 'nan':\n",
    "        print(\"*aka: \", r['aka'], \"*\", type_of, 'emerged in', r['decade'])\n",
    "    else:\n",
    "        print(type_of)\n",
    "        \n",
    "    print(desc)\n",
    "    print()"
   ]
  },
  {
   "cell_type": "code",
   "execution_count": null,
   "metadata": {},
   "outputs": [],
   "source": []
  }
 ],
 "metadata": {
  "kernelspec": {
   "display_name": "Python 3",
   "language": "python",
   "name": "python3"
  },
  "language_info": {
   "codemirror_mode": {
    "name": "ipython",
    "version": 3
   },
   "file_extension": ".py",
   "mimetype": "text/x-python",
   "name": "python",
   "nbconvert_exporter": "python",
   "pygments_lexer": "ipython3",
   "version": "3.6.7"
  },
  "varInspector": {
   "cols": {
    "lenName": 16,
    "lenType": 16,
    "lenVar": 40
   },
   "kernels_config": {
    "python": {
     "delete_cmd_postfix": "",
     "delete_cmd_prefix": "del ",
     "library": "var_list.py",
     "varRefreshCmd": "print(var_dic_list())"
    },
    "r": {
     "delete_cmd_postfix": ") ",
     "delete_cmd_prefix": "rm(",
     "library": "var_list.r",
     "varRefreshCmd": "cat(var_dic_list()) "
    }
   },
   "types_to_exclude": [
    "module",
    "function",
    "builtin_function_or_method",
    "instance",
    "_Feature"
   ],
   "window_display": false
  }
 },
 "nbformat": 4,
 "nbformat_minor": 2
}
