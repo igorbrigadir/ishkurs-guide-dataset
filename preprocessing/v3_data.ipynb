{
 "cells": [
  {
   "cell_type": "code",
   "execution_count": 40,
   "metadata": {
    "ExecuteTime": {
     "end_time": "2019-08-27T00:33:46.225405Z",
     "start_time": "2019-08-27T00:33:46.220555Z"
    }
   },
   "outputs": [],
   "source": [
    "import requests\n",
    "import pandas as pd\n",
    "import numpy as np\n",
    "import json\n",
    "# Progress bars\n",
    "import tqdm\n",
    "from tqdm import tqdm_notebook\n",
    "import lzma\n",
    "from multiprocessing import Pool\n",
    "import os\n",
    "\n",
    "headers = {\n",
    "    'User-Agent': 'Mozilla/5.0 (X11; Linux x86_64) AppleWebKit/537.36 (KHTML, like Gecko) Chrome/71.0.3578.98 Safari/537.36',\n",
    "    #'User-Agent':'Googlebot-Image/1.0', # Pretend to be googlebot\n",
    "    'X-Forwarded-For': '64.18.15.200'\n",
    "}"
   ]
  },
  {
   "cell_type": "code",
   "execution_count": 30,
   "metadata": {
    "ExecuteTime": {
     "end_time": "2019-08-27T00:31:20.790337Z",
     "start_time": "2019-08-27T00:31:20.787271Z"
    }
   },
   "outputs": [],
   "source": [
    "with open('../json_data/genrebiglabels.json') as f:\n",
    "    genres_list = json.load(f)"
   ]
  },
  {
   "cell_type": "code",
   "execution_count": 31,
   "metadata": {
    "ExecuteTime": {
     "end_time": "2019-08-27T00:31:21.407116Z",
     "start_time": "2019-08-27T00:31:21.404069Z"
    }
   },
   "outputs": [],
   "source": [
    "# Genres and starting points:\n",
    "genres = [(feature['properties']['name'], feature['geometry']['coordinates']) for feature in genres_list['features']]"
   ]
  },
  {
   "cell_type": "code",
   "execution_count": 32,
   "metadata": {
    "ExecuteTime": {
     "end_time": "2019-08-27T00:31:21.812802Z",
     "start_time": "2019-08-27T00:31:21.809405Z"
    }
   },
   "outputs": [
    {
     "data": {
      "text/plain": [
       "'dirtysouthrap'"
      ]
     },
     "execution_count": 32,
     "metadata": {},
     "output_type": "execute_result"
    }
   ],
   "source": [
    "genres[4][0].lower().replace(' ', '')"
   ]
  },
  {
   "cell_type": "code",
   "execution_count": 33,
   "metadata": {
    "ExecuteTime": {
     "end_time": "2019-08-27T00:31:23.655203Z",
     "start_time": "2019-08-27T00:31:23.653235Z"
    }
   },
   "outputs": [],
   "source": [
    "# Tracklists: http://music.ishkur.com/musicbox.php?x=9540&y=7685&match=genre\n",
    "# Descriptions: http://music.ishkur.com/content.php?g=Microfunk"
   ]
  },
  {
   "cell_type": "code",
   "execution_count": 52,
   "metadata": {
    "ExecuteTime": {
     "end_time": "2019-08-27T00:56:05.699774Z",
     "start_time": "2019-08-27T00:56:05.691829Z"
    }
   },
   "outputs": [],
   "source": [
    "def save_genre(params):\n",
    "    name = params[0].replace(' ', '').replace('/','%2F')\n",
    "    \n",
    "    x = params[1][0]\n",
    "    y = params[1][1]\n",
    "    \n",
    "    desc_fname = \"../html_data/{}_description.html.xz\".format(name.lower())\n",
    "    desc_url = \"http://music.ishkur.com/content.php?g={}\".format(name)\n",
    "    cache_url(desc_url, desc_fname)\n",
    "    \n",
    "    tracks_fname = \"../html_data/{}_tracks.html.xz\".format(name.lower())\n",
    "    tracks_url = \"http://music.ishkur.com/musicbox.php?x={}&y={}&match=genre\".format(x,y)\n",
    "    cache_url(tracks_url, tracks_fname)\n",
    "\n",
    "# Save a given url as a file\n",
    "def cache_url(url, fname, overwrite=False):\n",
    "    if os.path.isfile(fname) and not overwrite:\n",
    "        return\n",
    "\n",
    "    try: \n",
    "        data = requests.get(url, stream=False, timeout=30, allow_redirects=True, headers=headers).content\n",
    "    except Exception as e:\n",
    "        print(\"error:\", url)\n",
    "        return\n",
    "    \n",
    "    with lzma.open(fname, 'wb') as f:            \n",
    "        f.write(data)\n",
    "\n",
    "# Show Progress bar and perform a function on an iterable in parallel:\n",
    "def process_with_progress(func, iterable):\n",
    "    with Pool(8) as p:\n",
    "        results = list(tqdm_notebook(p.imap(func, iterable), total=len(iterable)))\n",
    "    return results"
   ]
  },
  {
   "cell_type": "code",
   "execution_count": 53,
   "metadata": {
    "ExecuteTime": {
     "end_time": "2019-08-27T00:56:11.824092Z",
     "start_time": "2019-08-27T00:56:11.820848Z"
    }
   },
   "outputs": [],
   "source": [
    "save_genre(genres[0])"
   ]
  },
  {
   "cell_type": "code",
   "execution_count": 54,
   "metadata": {
    "ExecuteTime": {
     "end_time": "2019-08-27T00:56:12.294728Z",
     "start_time": "2019-08-27T00:56:12.282465Z"
    }
   },
   "outputs": [
    {
     "data": {
      "text/plain": [
       "[('Rap', [8330, 18105]),\n",
       " ('Ghetto Tech', [14930, 19205]),\n",
       " ('Technobass', [12230, 19105]),\n",
       " ('Miami Bass', [11930, 18905]),\n",
       " ('Dirty South Rap', [12230, 18805]),\n",
       " ('Crunk', [15230, 18705]),\n",
       " ('Moombahton', [19130, 19005]),\n",
       " ('Trap', [19430, 18605]),\n",
       " ('Southern Rap', [12530, 18505]),\n",
       " ('Westcoast Rap', [12830, 18405]),\n",
       " ('Eastcoast Rap', [12230, 18205]),\n",
       " ('Bling', [16430, 18305]),\n",
       " ('Dancehall', [11930, 18005]),\n",
       " ('Conscious Rap', [13130, 17905]),\n",
       " ('Themed Rap', [14030, 17805]),\n",
       " ('Turntablism', [11030, 17705]),\n",
       " ('Freestyle', [11330, 17505]),\n",
       " ('Florida Breaks', [14930, 17405]),\n",
       " ('Electro', [10730, 17305]),\n",
       " ('Minimal Techno', [14030, 17005]),\n",
       " ('Dub Techno', [14330, 16905]),\n",
       " ('Bangin Techno', [14930, 16805]),\n",
       " ('Detroit Techno', [10730, 16705]),\n",
       " ('Bleep Techno', [13130, 16605]),\n",
       " ('Hard Techno', [14330, 16505]),\n",
       " ('Euro Techno', [13130, 16205]),\n",
       " ('Schranz', [16430, 16405]),\n",
       " ('Experimental Techno', [16130, 16305]),\n",
       " ('Speedcore', [16430, 15905]),\n",
       " ('Rave', [13430, 16005]),\n",
       " ('Hardcore', [13430, 15805]),\n",
       " ('UK Hardcore', [17330, 15705]),\n",
       " ('Freeform', [16430, 15605]),\n",
       " ('Happy Hardcore', [14330, 15505]),\n",
       " ('Oldskool Rave Hardcore', [13430, 15405]),\n",
       " ('Atmospheric Jungle', [14330, 15205]),\n",
       " ('Jazzstep', [14630, 15105]),\n",
       " ('Liquid Funk', [16430, 15005]),\n",
       " ('Darkside', [14030, 14905]),\n",
       " ('Microfunk', [17930, 14805]),\n",
       " ('Techstep', [14930, 14705]),\n",
       " ('Neurofunk', [15830, 14605]),\n",
       " ('Darkstep', [15530, 14505]),\n",
       " ('Drumstep', [18830, 14405]),\n",
       " ('Pendulum', [17630, 14305]),\n",
       " ('Jumpup', [14630, 14205]),\n",
       " ('Ragga Jungle', [14030, 14105]),\n",
       " ('Progressive Breaks', [15530, 13905]),\n",
       " ('Breaks', [12530, 13805]),\n",
       " ('Chemical Breaks', [14330, 13705]),\n",
       " ('Big Beat', [14930, 13605]),\n",
       " ('Nu Skool Breaks', [16130, 13505]),\n",
       " ('Freeland Breaks', [16730, 13405]),\n",
       " ('Hard Acid', [13730, 13205]),\n",
       " ('Acid', [12830, 13105]),\n",
       " ('Acid House', [12230, 13005]),\n",
       " ('Chicago House', [11630, 12805]),\n",
       " ('Hard House', [14630, 12705]),\n",
       " ('Hip House', [12530, 12605]),\n",
       " ('Italo House', [12830, 12505]),\n",
       " ('Disco House', [13430, 12405]),\n",
       " ('French House', [14930, 12305]),\n",
       " ('Electrohouse', [17030, 12205]),\n",
       " ('World House', [13430, 12105]),\n",
       " ('Eurohouse', [13130, 12005]),\n",
       " ('UK House', [12230, 11905]),\n",
       " ('Minimal Tech', [17030, 11705]),\n",
       " ('Microhouse', [15530, 11605]),\n",
       " ('Tech House', [14630, 11505]),\n",
       " ('Fidget House', [16130, 11405]),\n",
       " ('Deeptech', [16130, 11305]),\n",
       " ('Minimal Prog', [17630, 11105]),\n",
       " ('Progressive', [14930, 11005]),\n",
       " ('8th Note Prog', [18530, 10905]),\n",
       " ('McProg', [16430, 10805]),\n",
       " ('Twinkle Prog', [16130, 10705]),\n",
       " ('Progressive House', [13430, 10605]),\n",
       " ('Euro Deep House', [13130, 10405]),\n",
       " ('US Deep House', [12230, 10305]),\n",
       " ('Garage', [10130, 10205]),\n",
       " ('Speed Garage', [14630, 10005]),\n",
       " ('Brostep', [18830, 9905]),\n",
       " ('Dubstep', [17030, 9805]),\n",
       " ('Future Garage', [18230, 9705]),\n",
       " ('Grime', [16430, 9605]),\n",
       " ('2-Step Garage', [15530, 9505]),\n",
       " ('R&B', [10130, 9305]),\n",
       " ('Reggaeton', [17030, 9205]),\n",
       " ('Soul', [12530, 9105]),\n",
       " ('New Jack Swing', [12230, 9005]),\n",
       " ('Funk', [8030, 8905]),\n",
       " ('Nu Jazz', [14330, 8705]),\n",
       " ('Acid Jazz', [12230, 8605]),\n",
       " ('Downtempo', [13430, 8505]),\n",
       " ('Trip Hop', [14630, 8405]),\n",
       " ('Dub', [8030, 8305]),\n",
       " ('Indie', [13730, 7805]),\n",
       " ('Chill Out', [9530, 7705]),\n",
       " ('Worldbeat', [11030, 7605]),\n",
       " ('Moog', [5930, 8105]),\n",
       " ('Soundtrack', [3230, 8005]),\n",
       " ('Modern Classical', [5930, 7905]),\n",
       " ('Krautrock', [7130, 7005]),\n",
       " ('Minimalism', [6830, 6905]),\n",
       " ('Musique Concrete', [1130, 6805]),\n",
       " ('Experimental', [230, 6000]),\n",
       " ('New Age', [9230, 7505]),\n",
       " ('Ambient', [9530, 7305]),\n",
       " ('Dark Ambient', [11030, 7205]),\n",
       " ('Drone', [11330, 7105]),\n",
       " ('Amiga/Tracker', [11930, 6505]),\n",
       " ('FM', [11630, 6705]),\n",
       " ('Chiptune', [9830, 6605]),\n",
       " ('Fakebit', [12830, 6405]),\n",
       " ('Plus', [12530, 6305]),\n",
       " ('Braindance', [14330, 6205]),\n",
       " ('Ambient Techno', [13430, 6105]),\n",
       " ('Glitch', [16430, 5905]),\n",
       " ('Glitch Hop', [17030, 5805]),\n",
       " ('Drill n Bass', [14330, 5705]),\n",
       " ('Breakcore', [17030, 5605]),\n",
       " ('Noise', [4730, 5405]),\n",
       " ('Collage', [3230, 5305]),\n",
       " ('Industrial', [9230, 5205]),\n",
       " ('Aggrotech', [15530, 5105]),\n",
       " ('Industrial Rock', [12230, 5005]),\n",
       " ('Ethereal', [11630, 4905]),\n",
       " ('Darkwave', [10430, 4805]),\n",
       " ('New Beat', [12530, 4705]),\n",
       " ('Futurepop', [14630, 4605]),\n",
       " ('EBM', [10730, 4505]),\n",
       " ('Psydub', [14330, 4405]),\n",
       " ('Goa Trance', [13730, 4305]),\n",
       " ('Psychedelic Trance', [14930, 4205]),\n",
       " ('Darkpsy', [15830, 4105]),\n",
       " ('Full On', [15530, 4005]),\n",
       " ('Progpsy', [15230, 3905]),\n",
       " ('Dream Trance', [14330, 3705]),\n",
       " ('Balearic Trance', [13730, 3605]),\n",
       " ('Neo Trance', [17930, 3405]),\n",
       " ('Trance', [13130, 3505]),\n",
       " ('Progressive Trance', [14630, 3305]),\n",
       " ('Tech Trance', [15830, 3205]),\n",
       " ('NRG', [14930, 3005]),\n",
       " ('UK Hardhouse', [14930, 2905]),\n",
       " ('Jumpstyle', [15830, 2805]),\n",
       " ('Hardstyle', [16130, 2705]),\n",
       " ('Hard Trance', [15530, 2605]),\n",
       " ('German Trance', [14030, 2505]),\n",
       " ('Eurotrance', [14930, 2305]),\n",
       " ('Anthem House', [13730, 2105]),\n",
       " ('Dutch House', [18830, 2005]),\n",
       " ('Vocal Trance', [15530, 1805]),\n",
       " ('Handsup', [16830, 1705]),\n",
       " ('Eurodance', [14030, 1605]),\n",
       " ('Nu Italo', [15830, 1505]),\n",
       " ('Asian Pop', [13730, 1405]),\n",
       " ('Eurobeat', [12530, 1305]),\n",
       " ('Italo Disco', [10130, 1205]),\n",
       " ('Spacesynth', [9530, 1105]),\n",
       " ('Synthwave', [17330, 1005]),\n",
       " ('Synthpop', [9830, 905]),\n",
       " ('Hi NRG', [9530, 805]),\n",
       " ('Electroclash', [15530, 605]),\n",
       " ('Filthy Electrohouse', [17030, 505]),\n",
       " ('Dancepunk', [15830, 405])]"
      ]
     },
     "execution_count": 54,
     "metadata": {},
     "output_type": "execute_result"
    }
   ],
   "source": [
    "genres"
   ]
  },
  {
   "cell_type": "code",
   "execution_count": 55,
   "metadata": {
    "ExecuteTime": {
     "end_time": "2019-08-27T00:56:37.774105Z",
     "start_time": "2019-08-27T00:56:16.469059Z"
    },
    "scrolled": true
   },
   "outputs": [
    {
     "data": {
      "application/vnd.jupyter.widget-view+json": {
       "model_id": "3995b882274242188ce05b59ba69d10c",
       "version_major": 2,
       "version_minor": 0
      },
      "text/plain": [
       "HBox(children=(IntProgress(value=0, max=166), HTML(value='')))"
      ]
     },
     "metadata": {},
     "output_type": "display_data"
    },
    {
     "data": {
      "text/plain": [
       "[None,\n",
       " None,\n",
       " None,\n",
       " None,\n",
       " None,\n",
       " None,\n",
       " None,\n",
       " None,\n",
       " None,\n",
       " None,\n",
       " None,\n",
       " None,\n",
       " None,\n",
       " None,\n",
       " None,\n",
       " None,\n",
       " None,\n",
       " None,\n",
       " None,\n",
       " None,\n",
       " None,\n",
       " None,\n",
       " None,\n",
       " None,\n",
       " None,\n",
       " None,\n",
       " None,\n",
       " None,\n",
       " None,\n",
       " None,\n",
       " None,\n",
       " None,\n",
       " None,\n",
       " None,\n",
       " None,\n",
       " None,\n",
       " None,\n",
       " None,\n",
       " None,\n",
       " None,\n",
       " None,\n",
       " None,\n",
       " None,\n",
       " None,\n",
       " None,\n",
       " None,\n",
       " None,\n",
       " None,\n",
       " None,\n",
       " None,\n",
       " None,\n",
       " None,\n",
       " None,\n",
       " None,\n",
       " None,\n",
       " None,\n",
       " None,\n",
       " None,\n",
       " None,\n",
       " None,\n",
       " None,\n",
       " None,\n",
       " None,\n",
       " None,\n",
       " None,\n",
       " None,\n",
       " None,\n",
       " None,\n",
       " None,\n",
       " None,\n",
       " None,\n",
       " None,\n",
       " None,\n",
       " None,\n",
       " None,\n",
       " None,\n",
       " None,\n",
       " None,\n",
       " None,\n",
       " None,\n",
       " None,\n",
       " None,\n",
       " None,\n",
       " None,\n",
       " None,\n",
       " None,\n",
       " None,\n",
       " None,\n",
       " None,\n",
       " None,\n",
       " None,\n",
       " None,\n",
       " None,\n",
       " None,\n",
       " None,\n",
       " None,\n",
       " None,\n",
       " None,\n",
       " None,\n",
       " None,\n",
       " None,\n",
       " None,\n",
       " None,\n",
       " None,\n",
       " None,\n",
       " None,\n",
       " None,\n",
       " None,\n",
       " None,\n",
       " None,\n",
       " None,\n",
       " None,\n",
       " None,\n",
       " None,\n",
       " None,\n",
       " None,\n",
       " None,\n",
       " None,\n",
       " None,\n",
       " None,\n",
       " None,\n",
       " None,\n",
       " None,\n",
       " None,\n",
       " None,\n",
       " None,\n",
       " None,\n",
       " None,\n",
       " None,\n",
       " None,\n",
       " None,\n",
       " None,\n",
       " None,\n",
       " None,\n",
       " None,\n",
       " None,\n",
       " None,\n",
       " None,\n",
       " None,\n",
       " None,\n",
       " None,\n",
       " None,\n",
       " None,\n",
       " None,\n",
       " None,\n",
       " None,\n",
       " None,\n",
       " None,\n",
       " None,\n",
       " None,\n",
       " None,\n",
       " None,\n",
       " None,\n",
       " None,\n",
       " None,\n",
       " None,\n",
       " None,\n",
       " None,\n",
       " None,\n",
       " None,\n",
       " None,\n",
       " None,\n",
       " None,\n",
       " None,\n",
       " None,\n",
       " None]"
      ]
     },
     "execution_count": 55,
     "metadata": {},
     "output_type": "execute_result"
    }
   ],
   "source": [
    "process_with_progress(save_genre, genres)"
   ]
  },
  {
   "cell_type": "code",
   "execution_count": null,
   "metadata": {},
   "outputs": [],
   "source": []
  }
 ],
 "metadata": {
  "kernelspec": {
   "display_name": "Python 3",
   "language": "python",
   "name": "python3"
  },
  "language_info": {
   "codemirror_mode": {
    "name": "ipython",
    "version": 3
   },
   "file_extension": ".py",
   "mimetype": "text/x-python",
   "name": "python",
   "nbconvert_exporter": "python",
   "pygments_lexer": "ipython3",
   "version": "3.6.7"
  },
  "varInspector": {
   "cols": {
    "lenName": 16,
    "lenType": 16,
    "lenVar": 40
   },
   "kernels_config": {
    "python": {
     "delete_cmd_postfix": "",
     "delete_cmd_prefix": "del ",
     "library": "var_list.py",
     "varRefreshCmd": "print(var_dic_list())"
    },
    "r": {
     "delete_cmd_postfix": ") ",
     "delete_cmd_prefix": "rm(",
     "library": "var_list.r",
     "varRefreshCmd": "cat(var_dic_list()) "
    }
   },
   "types_to_exclude": [
    "module",
    "function",
    "builtin_function_or_method",
    "instance",
    "_Feature"
   ],
   "window_display": false
  }
 },
 "nbformat": 4,
 "nbformat_minor": 2
}
