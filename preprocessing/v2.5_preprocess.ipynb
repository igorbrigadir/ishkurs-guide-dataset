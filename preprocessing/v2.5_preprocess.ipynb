{
 "cells": [
  {
   "cell_type": "code",
   "execution_count": null,
   "metadata": {
    "ExecuteTime": {
     "end_time": "2019-08-31T14:20:18.576683Z",
     "start_time": "2019-08-31T14:20:18.573734Z"
    }
   },
   "outputs": [],
   "source": [
    "import re\n",
    "from glob import glob"
   ]
  },
  {
   "cell_type": "code",
   "execution_count": null,
   "metadata": {
    "ExecuteTime": {
     "end_time": "2019-08-31T14:20:19.324786Z",
     "start_time": "2019-08-31T14:20:19.320628Z"
    }
   },
   "outputs": [],
   "source": [
    "def strip_format(txt):\n",
    "    texts = re.findall(r'[A-Z]*',txt)\n",
    "    return ' '.join(' '.join(texts).split())\n",
    "\n",
    "def cleanup(txt):\n",
    "    if len(txt) < 2:\n",
    "        return \"\"\n",
    "    if \"LOADING\" in txt:\n",
    "        return \"\"\n",
    "    if \"listen to this genre right now!\" in txt:\n",
    "        return \"\"\n",
    "    #if \"--- RECORDSEPARATOR ---\" in txt:\n",
    "    #    return \"\"\n",
    "    return txt\n",
    "\n",
    "def cleanup_track(txt):\n",
    "    if \"artist:\" in txt:\n",
    "        return \"\"\n",
    "    if \"--- RECORDSEPARATOR ---\" in txt:\n",
    "        return \"\"\n",
    "    if \"track:\" in txt:\n",
    "        return \"\"\n",
    "    return txt\n",
    "\n",
    "#def extract_track(txt):\n",
    "    "
   ]
  },
  {
   "cell_type": "code",
   "execution_count": null,
   "metadata": {
    "ExecuteTime": {
     "end_time": "2019-08-31T14:20:22.459725Z",
     "start_time": "2019-08-31T14:20:22.287602Z"
    }
   },
   "outputs": [],
   "source": [
    "# For Tracks:\n",
    "\n",
    "files = sorted([i.replace('../v2.5_raw_data/','').replace('.swf','') for i in glob('../v2.5_raw_data/*.swf')])    \n",
    "\n",
    "for file in files:\n",
    "    \n",
    "    playlist = []\n",
    "    \n",
    "    track = {}\n",
    "    \n",
    "    num_guess = 0\n",
    "    \n",
    "    for fname in glob('../v2.5_swf_data/'+file+'/*.txt'): # 902 multiline\n",
    "        with open(fname) as f:\n",
    "            txt = f.read()\n",
    "\n",
    "            t = cleanup(txt)\n",
    "\n",
    "            #if t is not \"\":\n",
    "                #print (t)\n",
    "                #print (\"\")\n",
    "            \n",
    "            #if str(txt).isdigit():\n",
    "            #    num_guess = int(txt)\n",
    "            \n",
    "            if \"artist:\" in t:\n",
    "                t = t.replace(\"\\n--- RECORDSEPARATOR ---\\n\",'\\t').split('\\t')\n",
    "                #print(t)\n",
    "                track = {'artist':t[0].replace('artist:','').title(),\n",
    "                         'title':t[1].replace('track:','').title(),\n",
    "                         #'num': num_guess\n",
    "                        }\n",
    "                playlist.append(track)\n",
    "                #print(track)\n",
    "            \n",
    "    \n",
    "    for i, track in enumerate(playlist):\n",
    "        print(\"{}\\t{}\\t{}\\t{}\".format(file, i+1, track['artist'], track['title']))"
   ]
  },
  {
   "cell_type": "code",
   "execution_count": null,
   "metadata": {
    "ExecuteTime": {
     "end_time": "2019-08-31T14:20:26.046736Z",
     "start_time": "2019-08-31T14:20:25.866551Z"
    }
   },
   "outputs": [],
   "source": [
    "# For Titles, and AKAs\n",
    "\n",
    "files = sorted([i.replace('../v2.5_raw_data/','').replace('.swf','') for i in glob('../v2.5_raw_data/*.swf')])    \n",
    "\n",
    "for file in files:\n",
    "\n",
    "    parts = []\n",
    "    \n",
    "    for fname in glob('../v2.5_swf_data/'+file+'/*.txt'): # 902 multiline\n",
    "        with open(fname) as f:\n",
    "            txt = f.read()\n",
    "\n",
    "            t = cleanup_track(cleanup(txt)).title()\n",
    "            if t is not \"\":\n",
    "                parts.append(t)\n",
    "    \n",
    "    if len(parts) < 2:\n",
    "        parts.append(\"\")\n",
    "        \n",
    "    if len(parts) < 2:\n",
    "        parts.append(\"\")\n",
    "        \n",
    "    print(file, \"\\t\", parts[0], \"\\t\", parts[1].replace('Aka',''))"
   ]
  },
  {
   "cell_type": "code",
   "execution_count": null,
   "metadata": {
    "ExecuteTime": {
     "end_time": "2019-08-31T15:24:56.746296Z",
     "start_time": "2019-08-31T15:24:56.743819Z"
    }
   },
   "outputs": [],
   "source": [
    "#[print(j) for j in sorted([i.replace('../v2.5_raw_data/','').replace('.swf','') for i in glob('../v2.5_raw_data/*.swf')])]"
   ]
  },
  {
   "cell_type": "code",
   "execution_count": null,
   "metadata": {
    "ExecuteTime": {
     "end_time": "2019-08-31T14:20:28.497543Z",
     "start_time": "2019-08-31T14:20:28.278116Z"
    }
   },
   "outputs": [],
   "source": [
    "import pandas as pd\n",
    "import numpy as np"
   ]
  },
  {
   "cell_type": "code",
   "execution_count": null,
   "metadata": {
    "ExecuteTime": {
     "end_time": "2019-08-31T14:20:52.258951Z",
     "start_time": "2019-08-31T14:20:52.229201Z"
    }
   },
   "outputs": [],
   "source": [
    "df = pd.read_csv('../v2.5_genres.csv')\n",
    "df.head()"
   ]
  },
  {
   "cell_type": "code",
   "execution_count": null,
   "metadata": {
    "ExecuteTime": {
     "end_time": "2019-08-31T14:21:19.175522Z",
     "start_time": "2019-08-31T14:21:19.018072Z"
    },
    "scrolled": true
   },
   "outputs": [],
   "source": [
    "#for guide text descriptions:\n",
    "\n",
    "\n",
    "for idx, r in df.iterrows():\n",
    "    #print(r['type'], r['file'])\n",
    "    \n",
    "    with open('../v2.5_raw_data/'+r['genre']+'.txt') as f:\n",
    "        desc = f.read()\n",
    "        desc = desc[5:len(desc)-2] # get rid of text=, --\n",
    "        #print(desc)\n",
    "    \n",
    "    if (r['node'] == r['title']):\n",
    "        header = '##'\n",
    "        if r['node'] in set(['House','Trance','Techno','Breakbeat','Jungle','Hardcore','Downtempo']):\n",
    "            header = '#'\n",
    "        print (header, r['node'])\n",
    "    else:\n",
    "        print (\"##\", r['node']+\":\", r['title'])\n",
    "\n",
    "    \n",
    "    type_of = \"\"    \n",
    "    if str(r['scene']) != 'nan':\n",
    "        type_of = \"in the \" + r['scene'] + \" group,\"\n",
    "    \n",
    "    if str(r['aka']) != 'nan':\n",
    "        print(\"*aka: \", r['aka'].strip()+\"*\", type_of, 'emerged in', r['decade'])\n",
    "    else:\n",
    "        print(type_of)\n",
    "    print()\n",
    "    print(desc)\n",
    "    print()"
   ]
  },
  {
   "cell_type": "code",
   "execution_count": null,
   "metadata": {
    "ExecuteTime": {
     "end_time": "2019-08-31T14:21:51.304598Z",
     "start_time": "2019-08-31T14:21:51.251390Z"
    }
   },
   "outputs": [],
   "source": [
    "# Add descriptions to CSV\n",
    "df = pd.read_csv('../v2.5_genres.csv')\n",
    "\n",
    "for idx, r in df.iterrows():\n",
    "    #print(r['type'], r['file'])\n",
    "    \n",
    "    with open('../v2.5_raw_data/'+r['genre']+'.txt') as f:\n",
    "        desc = f.read()\n",
    "        desc = desc[5:len(desc)-2] # get rid of text=, --\n",
    "        desc = desc.strip()\n",
    "\n",
    "        df.at[idx,'description'] = desc\n",
    "        \n",
    "        #print(desc)\n",
    "        \n",
    "        #print('\\n' in desc)\n",
    "        #if '\\n' in desc:\n",
    "        #    print(desc)\n",
    "\n",
    "#df.to_csv('../v2.5_genres.csv', index=False)\n",
    "df.sample(10)"
   ]
  },
  {
   "cell_type": "code",
   "execution_count": null,
   "metadata": {
    "ExecuteTime": {
     "end_time": "2019-08-31T14:21:58.586684Z",
     "start_time": "2019-08-31T14:21:58.582986Z"
    }
   },
   "outputs": [],
   "source": [
    "# https://stackoverflow.com/a/33869154/11090908\n",
    "def pandas_df_to_markdown_table(df):\n",
    "    from IPython.display import Markdown, display\n",
    "    fmt = ['---' for i in range(len(df.columns))]\n",
    "    df_fmt = pd.DataFrame([fmt], columns=df.columns)\n",
    "    df_formatted = pd.concat([df_fmt, df])\n",
    "    #display(Markdown(df_formatted.to_csv(sep=\"|\", index=False)))\n",
    "    return df_formatted.to_csv(sep=\"|\", index=True)"
   ]
  },
  {
   "cell_type": "code",
   "execution_count": null,
   "metadata": {
    "ExecuteTime": {
     "end_time": "2019-08-31T15:24:33.496949Z",
     "start_time": "2019-08-31T15:24:33.439055Z"
    }
   },
   "outputs": [],
   "source": [
    "#df = pd.read_csv('../v2.5_genres.csv',dtype=str)\n",
    "#df = pd.read_csv('../v2.5_links.csv',dtype=str)\n",
    "#df = pd.read_csv('../v2.5_tracks.csv',dtype=str)\n",
    "\n",
    "#df = pd.read_csv('../v3_genres.csv',dtype=str)\n",
    "#df = pd.read_csv('../v3_links.csv',dtype=str)\n",
    "df = pd.read_csv('../v3_tracks.csv',dtype=str)\n",
    "\n",
    "df2 = df.describe(include='all').fillna(\" \")\n",
    "print(pandas_df_to_markdown_table(df2))\n",
    "df2"
   ]
  },
  {
   "cell_type": "code",
   "execution_count": null,
   "metadata": {},
   "outputs": [],
   "source": []
  }
 ],
 "metadata": {
  "kernelspec": {
   "display_name": "Python 3",
   "language": "python",
   "name": "python3"
  },
  "language_info": {
   "codemirror_mode": {
    "name": "ipython",
    "version": 3
   },
   "file_extension": ".py",
   "mimetype": "text/x-python",
   "name": "python",
   "nbconvert_exporter": "python",
   "pygments_lexer": "ipython3",
   "version": "3.6.7"
  },
  "varInspector": {
   "cols": {
    "lenName": 16,
    "lenType": 16,
    "lenVar": 40
   },
   "kernels_config": {
    "python": {
     "delete_cmd_postfix": "",
     "delete_cmd_prefix": "del ",
     "library": "var_list.py",
     "varRefreshCmd": "print(var_dic_list())"
    },
    "r": {
     "delete_cmd_postfix": ") ",
     "delete_cmd_prefix": "rm(",
     "library": "var_list.r",
     "varRefreshCmd": "cat(var_dic_list()) "
    }
   },
   "types_to_exclude": [
    "module",
    "function",
    "builtin_function_or_method",
    "instance",
    "_Feature"
   ],
   "window_display": false
  }
 },
 "nbformat": 4,
 "nbformat_minor": 2
}
