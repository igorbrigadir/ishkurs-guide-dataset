{
 "cells": [
  {
   "cell_type": "code",
   "execution_count": 2,
   "metadata": {
    "ExecuteTime": {
     "end_time": "2019-08-31T14:25:09.698475Z",
     "start_time": "2019-08-31T14:25:09.216014Z"
    }
   },
   "outputs": [],
   "source": [
    "import requests\n",
    "import pandas as pd\n",
    "import numpy as np\n",
    "import json\n",
    "# Progress bars\n",
    "import tqdm\n",
    "from tqdm import tqdm_notebook\n",
    "import lzma\n",
    "from multiprocessing import Pool\n",
    "import os\n",
    "\n",
    "from collections import OrderedDict, defaultdict\n",
    "from bs4 import BeautifulSoup\n",
    "\n",
    "headers = {\n",
    "    'User-Agent': 'Mozilla/5.0 (X11; Linux x86_64) AppleWebKit/537.36 (KHTML, like Gecko) Chrome/71.0.3578.98 Safari/537.36',\n",
    "    #'User-Agent':'Googlebot-Image/1.0', # Pretend to be googlebot\n",
    "    'X-Forwarded-For': '64.18.15.200'\n",
    "}"
   ]
  },
  {
   "cell_type": "code",
   "execution_count": 3,
   "metadata": {
    "ExecuteTime": {
     "end_time": "2019-08-31T14:25:10.946823Z",
     "start_time": "2019-08-31T14:25:10.943390Z"
    }
   },
   "outputs": [],
   "source": [
    "with open('../v3_json_data/genrebiglabels.json') as f:\n",
    "    genres_list = json.load(f)\n",
    "\n",
    "# Genres and starting points:\n",
    "genres = [(feature['properties']['name'], feature['geometry']['coordinates']) for feature in genres_list['features']]"
   ]
  },
  {
   "cell_type": "code",
   "execution_count": 4,
   "metadata": {
    "ExecuteTime": {
     "end_time": "2019-08-31T14:25:11.751743Z",
     "start_time": "2019-08-31T14:25:11.743617Z"
    }
   },
   "outputs": [
    {
     "data": {
      "text/plain": [
       "'dirtysouthrap'"
      ]
     },
     "execution_count": 4,
     "metadata": {},
     "output_type": "execute_result"
    }
   ],
   "source": [
    "genres[4][0].lower().replace(' ', '')"
   ]
  },
  {
   "cell_type": "code",
   "execution_count": 77,
   "metadata": {
    "ExecuteTime": {
     "end_time": "2019-08-31T15:24:07.975000Z",
     "start_time": "2019-08-31T15:24:07.969284Z"
    }
   },
   "outputs": [],
   "source": [
    "#genres"
   ]
  },
  {
   "cell_type": "code",
   "execution_count": 6,
   "metadata": {
    "ExecuteTime": {
     "end_time": "2019-08-31T14:25:13.697343Z",
     "start_time": "2019-08-31T14:25:13.695307Z"
    }
   },
   "outputs": [],
   "source": [
    "# Tracklists: http://music.ishkur.com/musicbox.php?x=9540&y=7685&match=genre\n",
    "# Descriptions: http://music.ishkur.com/content.php?g=Microfunk"
   ]
  },
  {
   "cell_type": "code",
   "execution_count": 8,
   "metadata": {
    "ExecuteTime": {
     "end_time": "2019-08-31T14:25:28.085513Z",
     "start_time": "2019-08-31T14:25:28.053737Z"
    }
   },
   "outputs": [],
   "source": [
    "def save_genre(params):\n",
    "    \n",
    "    name = params[0].replace(' ', '').replace('/','%2F')\n",
    "    \n",
    "    desc_name = params[0].replace(' ','%20').replace('/','%2F').replace('&', '%26amp%3B')\n",
    "    \n",
    "    x = params[1][0]\n",
    "    y = params[1][1]\n",
    "    \n",
    "    desc_fname = \"../v3_html_data/{}_description.html.xz\".format(name.lower())\n",
    "    desc_url = \"http://music.ishkur.com/content.php?g={}\".format(desc_name)\n",
    "    cache_url(desc_url, desc_fname) #\n",
    "    \n",
    "    tracks_fname = \"../v3_html_data/{}_tracks.html.xz\".format(name.lower())\n",
    "    tracks_url = \"http://music.ishkur.com/musicbox.php?x={}&y={}&match=genre\".format(x,y)\n",
    "    cache_url(tracks_url, tracks_fname)\n",
    "\n",
    "# Save a given url as a file\n",
    "def cache_url(url, fname, overwrite=False):\n",
    "    if os.path.isfile(fname) and not overwrite:\n",
    "        return\n",
    "\n",
    "    try: \n",
    "        data = requests.get(url, stream=False, timeout=30, allow_redirects=True, headers=headers).content\n",
    "    except Exception as e:\n",
    "        print(\"error:\", url)\n",
    "        return\n",
    "    \n",
    "    with lzma.open(fname, 'wb') as f:            \n",
    "        f.write(data)\n",
    "\n",
    "# Show Progress bar and perform a function on an iterable in parallel:\n",
    "def process_with_progress(func, iterable):\n",
    "    with Pool(8) as p:\n",
    "        results = list(tqdm_notebook(p.imap(func, iterable), total=len(iterable)))\n",
    "    return results"
   ]
  },
  {
   "cell_type": "code",
   "execution_count": 9,
   "metadata": {
    "ExecuteTime": {
     "end_time": "2019-08-31T14:25:29.222961Z",
     "start_time": "2019-08-31T14:25:29.218644Z"
    }
   },
   "outputs": [],
   "source": [
    "save_genre(genres[0])"
   ]
  },
  {
   "cell_type": "code",
   "execution_count": 10,
   "metadata": {
    "ExecuteTime": {
     "end_time": "2019-08-31T14:25:30.289576Z",
     "start_time": "2019-08-31T14:25:30.144759Z"
    },
    "scrolled": true
   },
   "outputs": [
    {
     "data": {
      "application/vnd.jupyter.widget-view+json": {
       "model_id": "28daf096f6a54db49ccf34e69ad0049e",
       "version_major": 2,
       "version_minor": 0
      },
      "text/plain": [
       "HBox(children=(IntProgress(value=0, max=166), HTML(value='')))"
      ]
     },
     "metadata": {},
     "output_type": "display_data"
    },
    {
     "name": "stdout",
     "output_type": "stream",
     "text": [
      "\n",
      "\n"
     ]
    }
   ],
   "source": [
    "process_with_progress(save_genre, genres)\n",
    "print()"
   ]
  },
  {
   "cell_type": "code",
   "execution_count": 11,
   "metadata": {
    "ExecuteTime": {
     "end_time": "2019-08-31T14:25:31.178870Z",
     "start_time": "2019-08-31T14:25:31.176429Z"
    }
   },
   "outputs": [],
   "source": [
    "# Derive Scene based on position:\n",
    "#def y_sort(item):\n",
    "#    return item['geometry']['coordinates'][1]\n",
    "\n",
    "#with open('../v3_json_data/scenelabels.json') as f:\n",
    "#    scenes = json.load(f)\n",
    "\n",
    "#iter_scenes = iter(sorted(scenes['features'], key=y_sort))#\n",
    "#\n",
    "#first = next(iter_scenes)\n",
    "#y = first['geometry']['coordinates'][1]\n",
    "#name = first['properties']['name']#\n",
    "#\n",
    "#scene_dict = {}\n",
    "#for scene in iter_scenes:#\n",
    "#\n",
    "#    next_y = scene['geometry']['coordinates'][1]\n",
    "#    next_name = scene['properties']['name']\n",
    "#    \n",
    "#    scene_dict[range(y, next_y)] = name#\n",
    "#\n",
    "#    y = next_y\n",
    "#    name = next_name#\n",
    "#\n",
    "#scene_dict"
   ]
  },
  {
   "cell_type": "code",
   "execution_count": 12,
   "metadata": {
    "ExecuteTime": {
     "end_time": "2019-08-31T14:25:31.715704Z",
     "start_time": "2019-08-31T14:25:31.711154Z"
    }
   },
   "outputs": [],
   "source": [
    "#with open('../v3_json_data/genrebiglabels.json') as f:\n",
    "#    genres = json.load(f)\n",
    "#\n",
    "#_ = [print(json.dumps(s)) for s in sorted(genres['features'], key=y_sort)]\n",
    "# Manually split - genre big label y coords not helpful, ovelap with labels"
   ]
  },
  {
   "cell_type": "code",
   "execution_count": 13,
   "metadata": {
    "ExecuteTime": {
     "end_time": "2019-08-31T14:25:31.957103Z",
     "start_time": "2019-08-31T14:25:31.952679Z"
    }
   },
   "outputs": [],
   "source": [
    "#sorted(scenes['features'], key=y_sort)"
   ]
  },
  {
   "cell_type": "code",
   "execution_count": 14,
   "metadata": {
    "ExecuteTime": {
     "end_time": "2019-08-31T14:25:32.189406Z",
     "start_time": "2019-08-31T14:25:32.186553Z"
    }
   },
   "outputs": [],
   "source": [
    "#[scene_dict[k] for k in scene_dict.keys() if 1305 in k]"
   ]
  },
  {
   "cell_type": "code",
   "execution_count": 15,
   "metadata": {
    "ExecuteTime": {
     "end_time": "2019-08-31T14:25:32.574403Z",
     "start_time": "2019-08-31T14:25:32.569087Z"
    }
   },
   "outputs": [],
   "source": [
    "#{ \"type\": \"Feature\", \"properties\": { \"name\": \"Trap\"}, \"geometry\": { \"type\": \"Point\", \"coordinates\": [19430, 18605] } }, #bass\n",
    "#{ \"type\": \"Feature\", \"properties\": { \"name\": \"Southern Rap\"}, \"geometry\": { \"type\": \"Point\", \"coordinates\": [12530, 18505] } }, #hip hop"
   ]
  },
  {
   "cell_type": "code",
   "execution_count": 16,
   "metadata": {
    "ExecuteTime": {
     "end_time": "2019-08-31T14:25:33.359123Z",
     "start_time": "2019-08-31T14:25:33.342227Z"
    }
   },
   "outputs": [
    {
     "name": "stdout",
     "output_type": "stream",
     "text": [
      "31\n",
      "31\n"
     ]
    }
   ],
   "source": [
    "def y_sort(item):\n",
    "    return item['geometry']['coordinates'][1]\n",
    "\n",
    "with open('../v3_json_data/sorted_genres.jsonl') as f:\n",
    "    # Manually split by newlines\n",
    "    groups_lines = f.read().split('\\n\\n')    \n",
    "    groups = [[json.loads(g) for g in group.split('\\n') if g is not ''] for group in groups_lines]\n",
    "    print(len(groups))\n",
    "    \n",
    "with open('../v3_json_data/scenelabels.json') as f:\n",
    "    scenes = sorted(json.load(f)['features'], key=y_sort)\n",
    "    scenes = [scene['properties']['name'] for scene in scenes]\n",
    "    # instert extra pioneers to cover minimalism etc. (spans across IDM)\n",
    "    scenes.remove('Pioneers')\n",
    "    scenes.insert(9, 'Pioneers')\n",
    "    scenes.insert(10, 'Intelligent Dance Music')\n",
    "    scenes.insert(12,'Pioneers')\n",
    "    scenes.insert(15,'Pioneers')\n",
    "    print(len(scenes))"
   ]
  },
  {
   "cell_type": "code",
   "execution_count": 17,
   "metadata": {
    "ExecuteTime": {
     "end_time": "2019-08-31T14:25:34.369521Z",
     "start_time": "2019-08-31T14:25:34.365846Z"
    }
   },
   "outputs": [
    {
     "data": {
      "text/plain": [
       "[{'type': 'Feature',\n",
       "  'properties': {'name': 'Breakcore'},\n",
       "  'geometry': {'type': 'Point', 'coordinates': [17030, 5605]}},\n",
       " {'type': 'Feature',\n",
       "  'properties': {'name': 'Drill n Bass'},\n",
       "  'geometry': {'type': 'Point', 'coordinates': [14330, 5705]}},\n",
       " {'type': 'Feature',\n",
       "  'properties': {'name': 'Glitch Hop'},\n",
       "  'geometry': {'type': 'Point', 'coordinates': [17030, 5805]}},\n",
       " {'type': 'Feature',\n",
       "  'properties': {'name': 'Glitch'},\n",
       "  'geometry': {'type': 'Point', 'coordinates': [16430, 5905]}}]"
      ]
     },
     "execution_count": 17,
     "metadata": {},
     "output_type": "execute_result"
    }
   ],
   "source": [
    "groups[8]"
   ]
  },
  {
   "cell_type": "code",
   "execution_count": 18,
   "metadata": {
    "ExecuteTime": {
     "end_time": "2019-08-31T14:25:34.884756Z",
     "start_time": "2019-08-31T14:25:34.872848Z"
    }
   },
   "outputs": [
    {
     "data": {
      "text/plain": [
       "'Intelligent Dance Music'"
      ]
     },
     "execution_count": 18,
     "metadata": {},
     "output_type": "execute_result"
    }
   ],
   "source": [
    "scenes[8]"
   ]
  },
  {
   "cell_type": "code",
   "execution_count": 76,
   "metadata": {
    "ExecuteTime": {
     "end_time": "2019-08-31T15:23:58.845188Z",
     "start_time": "2019-08-31T15:23:58.838112Z"
    }
   },
   "outputs": [],
   "source": [
    "# oops. overwrites, multiple entries..\n",
    "#scene_to_genre = OrderedDict(zip(scenes, [[g['properties']['name'] for g in group] for group in groups]))\n",
    "\n",
    "scene_to_genre = OrderedDict()\n",
    "for scene,group_names in zip(scenes, [[g['properties']['name'] for g in group] for group in groups]):\n",
    "    #print (scene, group_names)\n",
    "    if scene not in scene_to_genre:\n",
    "        scene_to_genre[scene] = group_names\n",
    "    else:\n",
    "        g_list = scene_to_genre[scene]\n",
    "        g_list.extend(group_names)\n",
    "        scene_to_genre[scene] = g_list\n",
    "\n",
    "genre_to_scene = OrderedDict((i,k) for k,v in scene_to_genre.items() for i in v)\n",
    "#genre_to_scene"
   ]
  },
  {
   "cell_type": "code",
   "execution_count": 20,
   "metadata": {
    "ExecuteTime": {
     "end_time": "2019-08-31T14:25:36.197766Z",
     "start_time": "2019-08-31T14:25:36.192898Z"
    }
   },
   "outputs": [],
   "source": [
    "#scene_to_genre['Industrial/Goth']"
   ]
  },
  {
   "cell_type": "code",
   "execution_count": 21,
   "metadata": {
    "ExecuteTime": {
     "end_time": "2019-08-31T14:25:36.693335Z",
     "start_time": "2019-08-31T14:25:36.687357Z"
    }
   },
   "outputs": [],
   "source": [
    "#[[(k,i) for i in v] for k,v in scene_to_genre.items()]"
   ]
  },
  {
   "cell_type": "code",
   "execution_count": 22,
   "metadata": {
    "ExecuteTime": {
     "end_time": "2019-08-31T14:25:37.148454Z",
     "start_time": "2019-08-31T14:25:37.144141Z"
    }
   },
   "outputs": [],
   "source": [
    "#with open('../v3_json_data/coords.json') as f:\n",
    "#    coords = json.load(f)['features']"
   ]
  },
  {
   "cell_type": "code",
   "execution_count": 23,
   "metadata": {
    "ExecuteTime": {
     "end_time": "2019-08-31T14:25:37.568069Z",
     "start_time": "2019-08-31T14:25:37.563949Z"
    }
   },
   "outputs": [],
   "source": [
    "#coords[140]['geometry']['coordinates'][0]"
   ]
  },
  {
   "cell_type": "code",
   "execution_count": 24,
   "metadata": {
    "ExecuteTime": {
     "end_time": "2019-08-31T14:25:38.383061Z",
     "start_time": "2019-08-31T14:25:38.380837Z"
    }
   },
   "outputs": [],
   "source": [
    "#coords[164]"
   ]
  },
  {
   "cell_type": "code",
   "execution_count": 25,
   "metadata": {
    "ExecuteTime": {
     "end_time": "2019-08-31T14:25:38.740769Z",
     "start_time": "2019-08-31T14:25:38.737242Z"
    }
   },
   "outputs": [],
   "source": [
    "# Coords for years: 2018 start: 21900, ever 300 is a year.\n",
    "# coords from gcpoly: [[ [22200, 6125], [22200, 6085], [21900, 6085], [21900, 6125], [22200, 6125] ]]\n",
    "                    #       right  Top    right bottom  left   bottom   left top       right top"
   ]
  },
  {
   "cell_type": "code",
   "execution_count": 26,
   "metadata": {
    "ExecuteTime": {
     "end_time": "2019-08-31T14:25:40.382409Z",
     "start_time": "2019-08-31T14:25:40.365636Z"
    }
   },
   "outputs": [],
   "source": [
    "# typo: eastcost / eastcoast rap; LIquid / Liquid funk; US Deep House (1992) Mr. Fingers'; \n",
    "\n",
    "with open('../v3_json_data/gcpoly.json') as f:\n",
    "    coords = json.load(f)['features']"
   ]
  },
  {
   "cell_type": "code",
   "execution_count": 27,
   "metadata": {
    "ExecuteTime": {
     "end_time": "2019-08-31T14:25:40.775287Z",
     "start_time": "2019-08-31T14:25:40.771094Z"
    }
   },
   "outputs": [],
   "source": [
    "# x values to years:\n",
    "x_to_year = dict(zip(range(22200, 0, -300), range(2019,1946,-1)))"
   ]
  },
  {
   "cell_type": "code",
   "execution_count": 28,
   "metadata": {
    "ExecuteTime": {
     "end_time": "2019-08-31T14:25:41.687446Z",
     "start_time": "2019-08-31T14:25:41.681913Z"
    }
   },
   "outputs": [],
   "source": [
    "def extract(coord):\n",
    "    # Index into left coord x\n",
    "    query_point = sorted(coord['geometry']['coordinates'][0])[0]\n",
    "    return {\"name\":coord['properties']['name'], \"tracks\": coord['properties']['value'], \"year\":x_to_year[query_point[0]], \"query\": query_point}\n"
   ]
  },
  {
   "cell_type": "code",
   "execution_count": 29,
   "metadata": {
    "ExecuteTime": {
     "end_time": "2019-08-31T14:25:42.447360Z",
     "start_time": "2019-08-31T14:25:42.441863Z"
    }
   },
   "outputs": [],
   "source": [
    "all_years = [extract(coord) for coord in coords] "
   ]
  },
  {
   "cell_type": "code",
   "execution_count": 30,
   "metadata": {
    "ExecuteTime": {
     "end_time": "2019-08-31T14:25:43.055033Z",
     "start_time": "2019-08-31T14:25:43.046430Z"
    }
   },
   "outputs": [
    {
     "data": {
      "text/plain": [
       "2856"
      ]
     },
     "execution_count": 30,
     "metadata": {},
     "output_type": "execute_result"
    }
   ],
   "source": [
    "len(all_years)"
   ]
  },
  {
   "cell_type": "code",
   "execution_count": 31,
   "metadata": {
    "ExecuteTime": {
     "end_time": "2019-08-31T14:25:43.730899Z",
     "start_time": "2019-08-31T14:25:43.721030Z"
    }
   },
   "outputs": [
    {
     "data": {
      "text/plain": [
       "{'name': '2-Step Garage', 'tracks': '12', 'year': 2000, 'query': [16500, 9485]}"
      ]
     },
     "execution_count": 31,
     "metadata": {},
     "output_type": "execute_result"
    }
   ],
   "source": [
    "all_years[2]"
   ]
  },
  {
   "cell_type": "code",
   "execution_count": 32,
   "metadata": {
    "ExecuteTime": {
     "end_time": "2019-08-31T14:25:44.604162Z",
     "start_time": "2019-08-31T14:25:44.600545Z"
    }
   },
   "outputs": [],
   "source": [
    "# scrape all the years tracks - heavy handed, but easier than parsing track names and finding years from one big list\n",
    "\n",
    "#\n",
    "    \n",
    "def save_track_year(params):\n",
    "    name = params['name'].replace(' ', '').replace('/','%2F').lower()\n",
    "    \n",
    "    x = params['query'][0]\n",
    "    y = params['query'][1]\n",
    "    \n",
    "    tracks_fname = \"../v3_html_data/{}_{}_tracks.html.xz\".format(name,params['year'])    \n",
    "    tracks_url = \"http://music.ishkur.com/musicbox.php?x={}&y={}&match=year\".format(x,y)\n",
    "    cache_url(tracks_url, tracks_fname)"
   ]
  },
  {
   "cell_type": "code",
   "execution_count": 33,
   "metadata": {
    "ExecuteTime": {
     "end_time": "2019-08-31T14:25:49.713229Z",
     "start_time": "2019-08-31T14:25:49.466359Z"
    }
   },
   "outputs": [
    {
     "data": {
      "application/vnd.jupyter.widget-view+json": {
       "model_id": "094a73929f48455fbffee6658d3e2773",
       "version_major": 2,
       "version_minor": 0
      },
      "text/plain": [
       "HBox(children=(IntProgress(value=0, max=2856), HTML(value='')))"
      ]
     },
     "metadata": {},
     "output_type": "display_data"
    },
    {
     "name": "stdout",
     "output_type": "stream",
     "text": [
      "\n",
      "\n"
     ]
    }
   ],
   "source": [
    "process_with_progress(save_track_year, all_years)\n",
    "print()"
   ]
  },
  {
   "cell_type": "code",
   "execution_count": 34,
   "metadata": {
    "ExecuteTime": {
     "end_time": "2019-08-31T14:25:51.162767Z",
     "start_time": "2019-08-31T14:25:51.147770Z"
    }
   },
   "outputs": [],
   "source": [
    "genre_first_year = defaultdict()\n",
    "\n",
    "for entry in all_years:\n",
    "    year = entry['year']\n",
    "    name = entry['name']\n",
    "    \n",
    "    if name not in genre_first_year:\n",
    "        genre_first_year[name] = year\n",
    "    \n",
    "    if genre_first_year[name] > year:\n",
    "        genre_first_year[name] = year"
   ]
  },
  {
   "cell_type": "code",
   "execution_count": 75,
   "metadata": {
    "ExecuteTime": {
     "end_time": "2019-08-31T15:23:52.541338Z",
     "start_time": "2019-08-31T15:23:52.535779Z"
    }
   },
   "outputs": [],
   "source": [
    "#genre_first_year"
   ]
  },
  {
   "cell_type": "code",
   "execution_count": null,
   "metadata": {
    "ExecuteTime": {
     "end_time": "2019-08-31T14:25:53.795508Z",
     "start_time": "2019-08-31T14:25:53.780275Z"
    }
   },
   "outputs": [],
   "source": [
    "# for the network:\n",
    "\n",
    "def clean_name(name):\n",
    "    return name.replace(' ', '').replace('/','%2F').lower()\n",
    "\n",
    "def year_start(name):\n",
    "    return genre_first_year[name]\n",
    "\n",
    "def self_node(name):\n",
    "    return \"{},{},{},\".format(clean_name(name), clean_name(name), year_start(name))\n",
    "\n",
    "\n",
    "print(\"source,target,start,end\")\n",
    "[print(self_node(name)+',\\n'+clean_name(name)+',' )  for name in reversed(genre_to_scene.keys())]\n",
    "print()"
   ]
  },
  {
   "cell_type": "code",
   "execution_count": 37,
   "metadata": {
    "ExecuteTime": {
     "end_time": "2019-08-31T14:25:58.701966Z",
     "start_time": "2019-08-31T14:25:58.699843Z"
    }
   },
   "outputs": [],
   "source": [
    "#"
   ]
  },
  {
   "cell_type": "code",
   "execution_count": 74,
   "metadata": {
    "ExecuteTime": {
     "end_time": "2019-08-31T15:23:29.421335Z",
     "start_time": "2019-08-31T15:23:29.414533Z"
    }
   },
   "outputs": [],
   "source": [
    "#all_years"
   ]
  },
  {
   "cell_type": "code",
   "execution_count": 39,
   "metadata": {
    "ExecuteTime": {
     "end_time": "2019-08-31T14:26:02.149472Z",
     "start_time": "2019-08-31T14:26:02.143049Z"
    }
   },
   "outputs": [
    {
     "name": "stdout",
     "output_type": "stream",
     "text": [
      "\n",
      "['Groove Chronicles', 'Stone Cold']\n",
      "['M-Dubs', 'Over Here (Sugar Shack Breakbeat Funk)']\n",
      "['Antonio', 'Hyperfunk']\n",
      "['Box Clever', 'Talk To Me']\n"
     ]
    }
   ],
   "source": [
    "fname = \"../v3_html_data/{}_{}_tracks.html.xz\".format(\"2-stepgarage\", 1998)\n",
    "with lzma.open(fname, 'rb') as f:            \n",
    "    soup = BeautifulSoup(f.read(), \"lxml\")\n",
    "    print()\n",
    "    for source in soup.select('source'):\n",
    "        parts = source['title'].split(' - ')\n",
    "        print(parts)"
   ]
  },
  {
   "cell_type": "code",
   "execution_count": 68,
   "metadata": {
    "ExecuteTime": {
     "end_time": "2019-08-31T15:11:26.267789Z",
     "start_time": "2019-08-31T15:11:23.271794Z"
    }
   },
   "outputs": [],
   "source": [
    "#track_metadata = [(entry['scene'] = genre_to_scene[entry['name']]) for entry in all_years]\n",
    "\n",
    "df = pd.DataFrame()\n",
    "\n",
    "def make_tracks(entry):\n",
    "    entry['scene'] = genre_to_scene[entry['name']]\n",
    "    entry['slug'] = clean_name(entry['name'])\n",
    "    \n",
    "    tracks = []\n",
    "    \n",
    "    fname = \"../v3_html_data/{}_{}_tracks.html.xz\".format(entry['slug'], entry['year'])\n",
    "    with lzma.open(fname, 'rb') as f:            \n",
    "        soup = BeautifulSoup(f.read(), \"lxml\")\n",
    "        \n",
    "        for source in soup.select('source'):\n",
    "            entry = entry.copy()\n",
    "            parts = source['title'].split(' - ')\n",
    "            entry['artist'] = parts[0]\n",
    "            entry['title'] = parts[1]\n",
    "            \n",
    "            tracks.append(entry)\n",
    "    \n",
    "    return tracks\n",
    "    \n",
    "df = pd.DataFrame([track for entry in all_years for track in make_tracks(entry)], dtype=str)\n",
    "df.rename({'name': 'genre'}, axis=1, inplace=True)\n",
    "df['slug'] = df['genre'].apply(clean_name)\n",
    "\n",
    "df = df[['slug', 'scene', 'genre', 'year', 'artist', 'title']]"
   ]
  },
  {
   "cell_type": "code",
   "execution_count": 69,
   "metadata": {
    "ExecuteTime": {
     "end_time": "2019-08-31T15:11:26.345520Z",
     "start_time": "2019-08-31T15:11:26.335351Z"
    }
   },
   "outputs": [
    {
     "data": {
      "text/html": [
       "<div>\n",
       "<style scoped>\n",
       "    .dataframe tbody tr th:only-of-type {\n",
       "        vertical-align: middle;\n",
       "    }\n",
       "\n",
       "    .dataframe tbody tr th {\n",
       "        vertical-align: top;\n",
       "    }\n",
       "\n",
       "    .dataframe thead th {\n",
       "        text-align: right;\n",
       "    }\n",
       "</style>\n",
       "<table border=\"1\" class=\"dataframe\">\n",
       "  <thead>\n",
       "    <tr style=\"text-align: right;\">\n",
       "      <th></th>\n",
       "      <th>slug</th>\n",
       "      <th>scene</th>\n",
       "      <th>genre</th>\n",
       "      <th>year</th>\n",
       "      <th>artist</th>\n",
       "      <th>title</th>\n",
       "    </tr>\n",
       "  </thead>\n",
       "  <tbody>\n",
       "    <tr>\n",
       "      <th>5623</th>\n",
       "      <td>germantrance</td>\n",
       "      <td>Eurotrance</td>\n",
       "      <td>German Trance</td>\n",
       "      <td>1994</td>\n",
       "      <td>Drax</td>\n",
       "      <td>Amphetamine</td>\n",
       "    </tr>\n",
       "    <tr>\n",
       "      <th>9929</th>\n",
       "      <td>synthpop</td>\n",
       "      <td>Eurodisco</td>\n",
       "      <td>Synthpop</td>\n",
       "      <td>1982</td>\n",
       "      <td>ABC</td>\n",
       "      <td>The Look Of Love</td>\n",
       "    </tr>\n",
       "    <tr>\n",
       "      <th>2784</th>\n",
       "      <td>detroittechno</td>\n",
       "      <td>Techno</td>\n",
       "      <td>Detroit Techno</td>\n",
       "      <td>2005</td>\n",
       "      <td>Keith Tucker</td>\n",
       "      <td>My Mental State</td>\n",
       "    </tr>\n",
       "    <tr>\n",
       "      <th>6768</th>\n",
       "      <td>indie</td>\n",
       "      <td>Chill Out</td>\n",
       "      <td>Indie</td>\n",
       "      <td>2012</td>\n",
       "      <td>Yppah</td>\n",
       "      <td>Happy To See You</td>\n",
       "    </tr>\n",
       "    <tr>\n",
       "      <th>1096</th>\n",
       "      <td>atmosphericjungle</td>\n",
       "      <td>Drum n Bass</td>\n",
       "      <td>Atmospheric Jungle</td>\n",
       "      <td>2012</td>\n",
       "      <td>Thesis</td>\n",
       "      <td>Blessing In Disguise</td>\n",
       "    </tr>\n",
       "    <tr>\n",
       "      <th>538</th>\n",
       "      <td>ambient</td>\n",
       "      <td>Ambient</td>\n",
       "      <td>Ambient</td>\n",
       "      <td>1984</td>\n",
       "      <td>Zero Kama</td>\n",
       "      <td>Azure-Lidded Woman (Pregnant Womb Of Non)</td>\n",
       "    </tr>\n",
       "    <tr>\n",
       "      <th>7506</th>\n",
       "      <td>miamibass</td>\n",
       "      <td>Bass</td>\n",
       "      <td>Miami Bass</td>\n",
       "      <td>1988</td>\n",
       "      <td>L'trimm</td>\n",
       "      <td>We Like The Cars That Go Boom</td>\n",
       "    </tr>\n",
       "    <tr>\n",
       "      <th>7501</th>\n",
       "      <td>miamibass</td>\n",
       "      <td>Bass</td>\n",
       "      <td>Miami Bass</td>\n",
       "      <td>1986</td>\n",
       "      <td>DJ KJ &amp; MC Kooley C.</td>\n",
       "      <td>Let's Get This Party Started</td>\n",
       "    </tr>\n",
       "    <tr>\n",
       "      <th>9725</th>\n",
       "      <td>spacesynth</td>\n",
       "      <td>Eurodisco</td>\n",
       "      <td>Spacesynth</td>\n",
       "      <td>2001</td>\n",
       "      <td>Protonic Strom</td>\n",
       "      <td>Protonic Voices</td>\n",
       "    </tr>\n",
       "    <tr>\n",
       "      <th>3607</th>\n",
       "      <td>ebm</td>\n",
       "      <td>Industrial/Goth</td>\n",
       "      <td>EBM</td>\n",
       "      <td>1995</td>\n",
       "      <td>Snog</td>\n",
       "      <td>The Future</td>\n",
       "    </tr>\n",
       "  </tbody>\n",
       "</table>\n",
       "</div>"
      ],
      "text/plain": [
       "                   slug            scene               genre  year  \\\n",
       "5623       germantrance       Eurotrance       German Trance  1994   \n",
       "9929           synthpop        Eurodisco            Synthpop  1982   \n",
       "2784      detroittechno           Techno      Detroit Techno  2005   \n",
       "6768              indie        Chill Out               Indie  2012   \n",
       "1096  atmosphericjungle      Drum n Bass  Atmospheric Jungle  2012   \n",
       "538             ambient          Ambient             Ambient  1984   \n",
       "7506          miamibass             Bass          Miami Bass  1988   \n",
       "7501          miamibass             Bass          Miami Bass  1986   \n",
       "9725         spacesynth        Eurodisco          Spacesynth  2001   \n",
       "3607                ebm  Industrial/Goth                 EBM  1995   \n",
       "\n",
       "                    artist                                      title  \n",
       "5623                  Drax                                Amphetamine  \n",
       "9929                   ABC                           The Look Of Love  \n",
       "2784          Keith Tucker                            My Mental State  \n",
       "6768                 Yppah                           Happy To See You  \n",
       "1096                Thesis                       Blessing In Disguise  \n",
       "538              Zero Kama  Azure-Lidded Woman (Pregnant Womb Of Non)  \n",
       "7506               L'trimm              We Like The Cars That Go Boom  \n",
       "7501  DJ KJ & MC Kooley C.               Let's Get This Party Started  \n",
       "9725        Protonic Strom                            Protonic Voices  \n",
       "3607                  Snog                                 The Future  "
      ]
     },
     "execution_count": 69,
     "metadata": {},
     "output_type": "execute_result"
    }
   ],
   "source": [
    "df.sample(10)"
   ]
  },
  {
   "cell_type": "code",
   "execution_count": 70,
   "metadata": {
    "ExecuteTime": {
     "end_time": "2019-08-31T15:11:32.374953Z",
     "start_time": "2019-08-31T15:11:32.319416Z"
    }
   },
   "outputs": [
    {
     "data": {
      "text/html": [
       "<div>\n",
       "<style scoped>\n",
       "    .dataframe tbody tr th:only-of-type {\n",
       "        vertical-align: middle;\n",
       "    }\n",
       "\n",
       "    .dataframe tbody tr th {\n",
       "        vertical-align: top;\n",
       "    }\n",
       "\n",
       "    .dataframe thead th {\n",
       "        text-align: right;\n",
       "    }\n",
       "</style>\n",
       "<table border=\"1\" class=\"dataframe\">\n",
       "  <thead>\n",
       "    <tr style=\"text-align: right;\">\n",
       "      <th></th>\n",
       "      <th>slug</th>\n",
       "      <th>scene</th>\n",
       "      <th>genre</th>\n",
       "      <th>year</th>\n",
       "      <th>artist</th>\n",
       "      <th>title</th>\n",
       "    </tr>\n",
       "  </thead>\n",
       "  <tbody>\n",
       "    <tr>\n",
       "      <th>count</th>\n",
       "      <td>11317</td>\n",
       "      <td>11317</td>\n",
       "      <td>11317</td>\n",
       "      <td>11317</td>\n",
       "      <td>11317</td>\n",
       "      <td>11317</td>\n",
       "    </tr>\n",
       "    <tr>\n",
       "      <th>unique</th>\n",
       "      <td>166</td>\n",
       "      <td>28</td>\n",
       "      <td>166</td>\n",
       "      <td>65</td>\n",
       "      <td>9594</td>\n",
       "      <td>10724</td>\n",
       "    </tr>\n",
       "    <tr>\n",
       "      <th>top</th>\n",
       "      <td>synthpop</td>\n",
       "      <td>House</td>\n",
       "      <td>Synthpop</td>\n",
       "      <td>2000</td>\n",
       "      <td>Sounds From The Ground</td>\n",
       "      <td>Move Your Body</td>\n",
       "    </tr>\n",
       "    <tr>\n",
       "      <th>freq</th>\n",
       "      <td>256</td>\n",
       "      <td>812</td>\n",
       "      <td>256</td>\n",
       "      <td>445</td>\n",
       "      <td>6</td>\n",
       "      <td>6</td>\n",
       "    </tr>\n",
       "  </tbody>\n",
       "</table>\n",
       "</div>"
      ],
      "text/plain": [
       "            slug  scene     genre   year                  artist  \\\n",
       "count      11317  11317     11317  11317                   11317   \n",
       "unique       166     28       166     65                    9594   \n",
       "top     synthpop  House  Synthpop   2000  Sounds From The Ground   \n",
       "freq         256    812       256    445                       6   \n",
       "\n",
       "                 title  \n",
       "count            11317  \n",
       "unique           10724  \n",
       "top     Move Your Body  \n",
       "freq                 6  "
      ]
     },
     "execution_count": 70,
     "metadata": {},
     "output_type": "execute_result"
    }
   ],
   "source": [
    "df.describe(include='all')"
   ]
  },
  {
   "cell_type": "code",
   "execution_count": 71,
   "metadata": {
    "ExecuteTime": {
     "end_time": "2019-08-31T15:11:37.348713Z",
     "start_time": "2019-08-31T15:11:37.306015Z"
    }
   },
   "outputs": [],
   "source": [
    "df.to_csv('../v3_tracks.csv',index=False)"
   ]
  },
  {
   "cell_type": "code",
   "execution_count": 44,
   "metadata": {
    "ExecuteTime": {
     "end_time": "2019-08-31T14:27:11.228163Z",
     "start_time": "2019-08-31T14:27:11.223993Z"
    }
   },
   "outputs": [],
   "source": [
    "# Descriptions:"
   ]
  },
  {
   "cell_type": "code",
   "execution_count": 46,
   "metadata": {
    "ExecuteTime": {
     "end_time": "2019-08-31T14:27:20.739220Z",
     "start_time": "2019-08-31T14:27:20.733990Z"
    }
   },
   "outputs": [],
   "source": [
    "#genre_to_scene.keys()"
   ]
  },
  {
   "cell_type": "code",
   "execution_count": 47,
   "metadata": {
    "ExecuteTime": {
     "end_time": "2019-08-31T14:27:22.696169Z",
     "start_time": "2019-08-31T14:27:22.688612Z"
    }
   },
   "outputs": [],
   "source": [
    "def get_description(genre):\n",
    "    fname = \"../v3_html_data/{}_description.html.xz\".format(genre)\n",
    "    with lzma.open(fname, 'rb') as f:            \n",
    "        soup = BeautifulSoup(f.read(), \"lxml\")\n",
    "        genre_name = soup.select('td.header', limit=1)[0].text\n",
    "        genre_aka = soup.select('td.miniheader', limit=1)[0].text\n",
    "        genre_scene = soup.select('td.subheader', limit=1)[0].text\n",
    "        genre_emerge = soup.select('td.miniheader')[-1].text\n",
    "    return {'name': genre_name,\n",
    "           'aka':genre_aka,\n",
    "           'scene':genre_scene,\n",
    "           'emerged':genre_emerge}"
   ]
  },
  {
   "cell_type": "code",
   "execution_count": 72,
   "metadata": {
    "ExecuteTime": {
     "end_time": "2019-08-31T15:14:32.534090Z",
     "start_time": "2019-08-31T15:14:31.971907Z"
    }
   },
   "outputs": [
    {
     "data": {
      "text/html": [
       "<div>\n",
       "<style scoped>\n",
       "    .dataframe tbody tr th:only-of-type {\n",
       "        vertical-align: middle;\n",
       "    }\n",
       "\n",
       "    .dataframe tbody tr th {\n",
       "        vertical-align: top;\n",
       "    }\n",
       "\n",
       "    .dataframe thead th {\n",
       "        text-align: right;\n",
       "    }\n",
       "</style>\n",
       "<table border=\"1\" class=\"dataframe\">\n",
       "  <thead>\n",
       "    <tr style=\"text-align: right;\">\n",
       "      <th></th>\n",
       "      <th>slug</th>\n",
       "      <th>scene</th>\n",
       "      <th>genre</th>\n",
       "      <th>emerged</th>\n",
       "      <th>aka</th>\n",
       "    </tr>\n",
       "  </thead>\n",
       "  <tbody>\n",
       "    <tr>\n",
       "      <th>103</th>\n",
       "      <td>electrohouse</td>\n",
       "      <td>House</td>\n",
       "      <td>Electrohouse</td>\n",
       "      <td>early 00s</td>\n",
       "      <td>Electro House, Swedish House, Complextro</td>\n",
       "    </tr>\n",
       "    <tr>\n",
       "      <th>51</th>\n",
       "      <td>braindance</td>\n",
       "      <td>Intelligent Dance Music</td>\n",
       "      <td>Braindance</td>\n",
       "      <td>mid 90s</td>\n",
       "      <td>IDM</td>\n",
       "    </tr>\n",
       "    <tr>\n",
       "      <th>56</th>\n",
       "      <td>soundtrack</td>\n",
       "      <td>Pioneers</td>\n",
       "      <td>Soundtrack</td>\n",
       "      <td>early 50s, most likely</td>\n",
       "      <td>Theme music, background music, filler music, l...</td>\n",
       "    </tr>\n",
       "    <tr>\n",
       "      <th>105</th>\n",
       "      <td>discohouse</td>\n",
       "      <td>House</td>\n",
       "      <td>Disco House</td>\n",
       "      <td>early 90s</td>\n",
       "      <td>Funky House, Disco</td>\n",
       "    </tr>\n",
       "    <tr>\n",
       "      <th>142</th>\n",
       "      <td>bleeptechno</td>\n",
       "      <td>Techno</td>\n",
       "      <td>Bleep Techno</td>\n",
       "      <td>late 80s</td>\n",
       "      <td>UK Techno</td>\n",
       "    </tr>\n",
       "    <tr>\n",
       "      <th>73</th>\n",
       "      <td>acidjazz</td>\n",
       "      <td>Downtempo</td>\n",
       "      <td>Acid Jazz</td>\n",
       "      <td>late 80s</td>\n",
       "      <td>Jazzdance, Electro Swing, House Jazz, Funk Fusion</td>\n",
       "    </tr>\n",
       "    <tr>\n",
       "      <th>154</th>\n",
       "      <td>rap</td>\n",
       "      <td>Hip Hop</td>\n",
       "      <td>Rap</td>\n",
       "      <td>mid to late 70s</td>\n",
       "      <td>Freestyling, MCing, Hip Hop</td>\n",
       "    </tr>\n",
       "    <tr>\n",
       "      <th>49</th>\n",
       "      <td>experimental</td>\n",
       "      <td>Pioneers</td>\n",
       "      <td>Experimental</td>\n",
       "      <td>who knows</td>\n",
       "      <td>Early electronic sounds</td>\n",
       "    </tr>\n",
       "    <tr>\n",
       "      <th>68</th>\n",
       "      <td>chillout</td>\n",
       "      <td>Chill Out</td>\n",
       "      <td>Chill Out</td>\n",
       "      <td>late 70s</td>\n",
       "      <td>Ambient House, Balearic</td>\n",
       "    </tr>\n",
       "    <tr>\n",
       "      <th>62</th>\n",
       "      <td>fm</td>\n",
       "      <td>Chiptune</td>\n",
       "      <td>FM</td>\n",
       "      <td>mid 80s</td>\n",
       "      <td>Frequency Modulation, 16-bit, Yamaha, Genesis,...</td>\n",
       "    </tr>\n",
       "  </tbody>\n",
       "</table>\n",
       "</div>"
      ],
      "text/plain": [
       "             slug                    scene         genre  \\\n",
       "103  electrohouse                    House  Electrohouse   \n",
       "51     braindance  Intelligent Dance Music    Braindance   \n",
       "56     soundtrack                 Pioneers    Soundtrack   \n",
       "105    discohouse                    House   Disco House   \n",
       "142   bleeptechno                   Techno  Bleep Techno   \n",
       "73       acidjazz                Downtempo     Acid Jazz   \n",
       "154           rap                  Hip Hop           Rap   \n",
       "49   experimental                 Pioneers  Experimental   \n",
       "68       chillout                Chill Out     Chill Out   \n",
       "62             fm                 Chiptune            FM   \n",
       "\n",
       "                    emerged                                                aka  \n",
       "103               early 00s           Electro House, Swedish House, Complextro  \n",
       "51                  mid 90s                                                IDM  \n",
       "56   early 50s, most likely  Theme music, background music, filler music, l...  \n",
       "105               early 90s                                 Funky House, Disco  \n",
       "142                late 80s                                          UK Techno  \n",
       "73                 late 80s  Jazzdance, Electro Swing, House Jazz, Funk Fusion  \n",
       "154         mid to late 70s                        Freestyling, MCing, Hip Hop  \n",
       "49                who knows                            Early electronic sounds  \n",
       "68                 late 70s                            Ambient House, Balearic  \n",
       "62                  mid 80s  Frequency Modulation, 16-bit, Yamaha, Genesis,...  "
      ]
     },
     "execution_count": 72,
     "metadata": {},
     "output_type": "execute_result"
    }
   ],
   "source": [
    "df_genres = pd.DataFrame([get_description(clean_name(genre)) for genre in genre_to_scene.keys()])\n",
    "df_genres['slug'] = df_genres['name'].apply(clean_name)\n",
    "df_genres.rename({'name': 'genre'}, axis=1, inplace=True)\n",
    "df_genres = df_genres[['slug', 'scene', 'genre', 'emerged', 'aka']]\n",
    "df_genres.sample(10)"
   ]
  },
  {
   "cell_type": "code",
   "execution_count": 73,
   "metadata": {
    "ExecuteTime": {
     "end_time": "2019-08-31T15:14:44.554773Z",
     "start_time": "2019-08-31T15:14:44.544150Z"
    }
   },
   "outputs": [],
   "source": [
    "df_genres.to_csv('../v3_genres.csv',index=False)\n",
    "#df_genres.sample(10)"
   ]
  },
  {
   "cell_type": "code",
   "execution_count": null,
   "metadata": {
    "ExecuteTime": {
     "end_time": "2019-08-31T14:51:34.408751Z",
     "start_time": "2019-08-31T14:51:33.326356Z"
    },
    "scrolled": true
   },
   "outputs": [],
   "source": [
    "#\n",
    "#for guide text descriptions:\n",
    "\n",
    "def extract_desc(genre):\n",
    "    fname = \"../v3_html_data/{}_description.html.xz\".format(genre)\n",
    "    #print (fname)\n",
    "    with lzma.open(fname, 'rb') as f:            \n",
    "        soup = BeautifulSoup(f.read(), \"lxml\")\n",
    "        desc = soup.select_one('td.td-copy').text\n",
    "    return desc\n",
    "\n",
    "scene = df_genres.iloc[0]['scene']\n",
    "\n",
    "print(\"# {}\".format(scene))\n",
    "print()\n",
    "\n",
    "for idx, r in df_genres.iterrows():\n",
    "    \n",
    "    if str(r['scene']) != scene:\n",
    "        print(\"# {}\".format(r['scene']))\n",
    "        scene = r['scene']\n",
    "    \n",
    "    print()\n",
    "    print(\"##\", r['genre'])\n",
    "    \n",
    "    type_of = \"\"    \n",
    "    if str(r['scene']) != 'nan':\n",
    "        type_of = \"in the \" + r['scene'] + \" scene,\"\n",
    "    \n",
    "    if str(r['aka']) != 'nan':\n",
    "        print(\"*aka: \", r['aka'].strip()+\"*\", type_of, 'emerged in', r['emerged'])\n",
    "    else:\n",
    "        print(type_of)\n",
    "\n",
    "    fname = \"../v3_html_data/{}_description.html.xz\".format(r['slug'])\n",
    "    with lzma.open(fname, 'rb') as f:            \n",
    "        soup = BeautifulSoup(f.read(), \"lxml\")\n",
    "        \n",
    "        desc = extract_desc(r['slug'])\n",
    "\n",
    "    print()\n",
    "    print(desc)\n",
    "    print()"
   ]
  },
  {
   "cell_type": "code",
   "execution_count": 66,
   "metadata": {
    "ExecuteTime": {
     "end_time": "2019-08-31T14:50:04.226291Z",
     "start_time": "2019-08-31T14:50:04.220681Z"
    }
   },
   "outputs": [],
   "source": [
    "#extract_desc('2-stepgarage')"
   ]
  },
  {
   "cell_type": "code",
   "execution_count": null,
   "metadata": {},
   "outputs": [],
   "source": []
  }
 ],
 "metadata": {
  "kernelspec": {
   "display_name": "Python 3",
   "language": "python",
   "name": "python3"
  },
  "language_info": {
   "codemirror_mode": {
    "name": "ipython",
    "version": 3
   },
   "file_extension": ".py",
   "mimetype": "text/x-python",
   "name": "python",
   "nbconvert_exporter": "python",
   "pygments_lexer": "ipython3",
   "version": "3.6.7"
  },
  "varInspector": {
   "cols": {
    "lenName": 16,
    "lenType": 16,
    "lenVar": 40
   },
   "kernels_config": {
    "python": {
     "delete_cmd_postfix": "",
     "delete_cmd_prefix": "del ",
     "library": "var_list.py",
     "varRefreshCmd": "print(var_dic_list())"
    },
    "r": {
     "delete_cmd_postfix": ") ",
     "delete_cmd_prefix": "rm(",
     "library": "var_list.r",
     "varRefreshCmd": "cat(var_dic_list()) "
    }
   },
   "types_to_exclude": [
    "module",
    "function",
    "builtin_function_or_method",
    "instance",
    "_Feature"
   ],
   "window_display": false
  }
 },
 "nbformat": 4,
 "nbformat_minor": 2
}
